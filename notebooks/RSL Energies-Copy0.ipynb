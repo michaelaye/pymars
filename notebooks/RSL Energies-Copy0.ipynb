{
 "metadata": {
  "name": "RSL Energies-Copy0"
 },
 "nbformat": 3,
 "worksheets": [
  {
   "cells": [
    {
     "cell_type": "heading",
     "level": 4,
     "source": [
      "Import my Mars SPICE tool and creating a Spicer object"
     ]
    },
    {
     "cell_type": "code",
     "collapsed": true,
     "input": [
      "from mars_spice import MarsSpicer",
      "mspice = MarsSpicer()"
     ],
     "language": "python",
     "outputs": [],
     "prompt_number": 154
    },
    {
     "cell_type": "heading",
     "level": 4,
     "source": [
      "Changing current time to this year's L_s = 0 (hardcoded) :"
     ]
    },
    {
     "cell_type": "code",
     "collapsed": true,
     "input": [
      "mspice.goto_ls_0()"
     ],
     "language": "python",
     "outputs": [],
     "prompt_number": 155
    },
    {
     "cell_type": "heading",
     "level": 4,
     "source": [
      "going backward by approx. 120 L_s to approx 240 L_s"
     ]
    },
    {
     "cell_type": "code",
     "collapsed": true,
     "input": [
      "mspice.advance_time_by(-120*40*3600)"
     ],
     "language": "python",
     "outputs": [],
     "prompt_number": 156
    },
    {
     "cell_type": "heading",
     "level": 4,
     "source": [
      "Confirm current L_s value"
     ]
    },
    {
     "cell_type": "code",
     "collapsed": false,
     "input": [
      "mspice.l_s"
     ],
     "language": "python",
     "outputs": [
      {
       "output_type": "pyout",
       "prompt_number": 157,
       "text": [
        "243.5259368822951"
       ]
      }
     ],
     "prompt_number": 157
    },
    {
     "cell_type": "heading",
     "level": 4,
     "source": [
      "Save time for later"
     ]
    },
    {
     "cell_type": "code",
     "collapsed": true,
     "input": [
      "start_utc = mspice.utc"
     ],
     "language": "python",
     "outputs": [],
     "prompt_number": 158
    },
    {
     "cell_type": "heading",
     "level": 4,
     "source": [
      "Setting coords to lon=0, lat=-40"
     ]
    },
    {
     "cell_type": "code",
     "collapsed": false,
     "input": [
      "mspice.set_spoint_by(lon=0, lat=-40)"
     ],
     "language": "python",
     "outputs": [],
     "prompt_number": 159
    },
    {
     "cell_type": "heading",
     "level": 4,
     "source": [
      "Check how flux on flat ground and on (so far) untitled element compares:"
     ]
    },
    {
     "cell_type": "code",
     "collapsed": false,
     "input": [
      "print(mspice.F_flat,mspice.F_tilt)"
     ],
     "language": "python",
     "outputs": [
      {
       "output_type": "stream",
       "stream": "stdout",
       "text": [
        "(169.4793068589585, 169.4793068589585)",
        ""
       ]
      }
     ],
     "prompt_number": 160
    },
    {
     "cell_type": "heading",
     "level": 4,
     "source": [
      "Tilt local surface element by 33 degrees (taken average from RSL Science paper).  (default aspect is towards north)"
     ]
    },
    {
     "cell_type": "code",
     "collapsed": true,
     "input": [
      "mspice.tilt = 33"
     ],
     "language": "python",
     "outputs": [],
     "prompt_number": 161
    },
    {
     "cell_type": "heading",
     "level": 4,
     "source": [
      "Compare flat ground flux again with flux on tilted element"
     ]
    },
    {
     "cell_type": "code",
     "collapsed": false,
     "input": [
      "print(mspice.F_flat, mspice.F_tilt)"
     ],
     "language": "python",
     "outputs": [
      {
       "output_type": "stream",
       "stream": "stdout",
       "text": [
        "(169.4793068589585, 26.054376048793852)",
        ""
       ]
      }
     ],
     "prompt_number": 162
    },
    {
     "cell_type": "heading",
     "level": 4,
     "source": [
      "Check illumination angles:"
     ]
    },
    {
     "cell_type": "code",
     "collapsed": false,
     "input": [
      "mspice.illum_angles()"
     ],
     "language": "python",
     "outputs": [
      {
       "output_type": "stream",
       "stream": "stdout",
       "text": [
        "Phase: 0.0,",
        "Incidence: 76.274707846",
        "Emission: 0.0",
        ""
       ]
      }
     ],
     "prompt_number": 163
    },
    {
     "cell_type": "code",
     "collapsed": false,
     "input": [
      "mspice.local_soltime"
     ],
     "language": "python",
     "outputs": [
      {
       "output_type": "pyout",
       "prompt_number": 164,
       "text": [
        "(18, 3, 2, '18:03:02', '06:03:02 P.M.')"
       ]
      }
     ],
     "prompt_number": 164
    },
    {
     "cell_type": "code",
     "collapsed": true,
     "input": [
      "mspice.aspect=90"
     ],
     "language": "python",
     "outputs": [],
     "prompt_number": 165
    },
    {
     "cell_type": "code",
     "collapsed": false,
     "input": [
      "mspice.F_tilt"
     ],
     "language": "python",
     "outputs": [
      {
       "output_type": "pyout",
       "prompt_number": 166,
       "text": [
        "26.054376048793852"
       ]
      }
     ],
     "prompt_number": 166
    },
    {
     "cell_type": "code",
     "collapsed": false,
     "input": [
      "mspice.sun_direction"
     ],
     "language": "python",
     "outputs": [
      {
       "output_type": "pyout",
       "prompt_number": 167,
       "text": [
        "(-2535469.947399661, -191188540.68229184, -78798248.01325956)"
       ]
      }
     ],
     "prompt_number": 167
    },
    {
     "cell_type": "code",
     "collapsed": false,
     "input": [
      "mspice.et"
     ],
     "language": "python",
     "outputs": [
      {
       "output_type": "pyout",
       "prompt_number": 168,
       "text": [
        "351915939.91886663"
       ]
      }
     ],
     "prompt_number": 168
    },
    {
     "cell_type": "code",
     "collapsed": false,
     "input": [
      "mspice.utc"
     ],
     "language": "python",
     "outputs": [
      {
       "output_type": "pyout",
       "prompt_number": 169,
       "text": [
        "'2011-02-25T14:24:33.733548'"
       ]
      }
     ],
     "prompt_number": 169
    },
    {
     "cell_type": "code",
     "collapsed": false,
     "input": [
      "mspice.center_to_sun"
     ],
     "language": "python",
     "outputs": [
      {
       "output_type": "pyout",
       "prompt_number": 170,
       "text": [
        "(-2532874.6748851594, -191188540.68229184, -78800425.70546928)"
       ]
      }
     ],
     "prompt_number": 170
    },
    {
     "cell_type": "code",
     "collapsed": false,
     "input": [
      "mspice.advance_time_by(-6*3600)"
     ],
     "language": "python",
     "outputs": [],
     "prompt_number": 171
    },
    {
     "cell_type": "code",
     "collapsed": false,
     "input": [
      "mspice.center_to_sun"
     ],
     "language": "python",
     "outputs": [
      {
       "output_type": "pyout",
       "prompt_number": 172,
       "text": [
        "(190957273.7769327, -10688568.426980443, -78694083.03402597)"
       ]
      }
     ],
     "prompt_number": 172
    },
    {
     "cell_type": "code",
     "collapsed": false,
     "input": [
      "mspice.utc"
     ],
     "language": "python",
     "outputs": [
      {
       "output_type": "pyout",
       "prompt_number": 173,
       "text": [
        "'2011-02-25T08:24:33.733548'"
       ]
      }
     ],
     "prompt_number": 173
    },
    {
     "cell_type": "code",
     "collapsed": false,
     "input": [
      "mspice.et"
     ],
     "language": "python",
     "outputs": [
      {
       "output_type": "pyout",
       "prompt_number": 174,
       "text": [
        "351894339.9188622"
       ]
      }
     ],
     "prompt_number": 174
    },
    {
     "cell_type": "code",
     "collapsed": false,
     "input": [
      "mspice.sun_direction"
     ],
     "language": "python",
     "outputs": [
      {
       "output_type": "pyout",
       "prompt_number": 175,
       "text": [
        "(-2535469.947399661, -191188540.68229184, -78798248.01325956)"
       ]
      }
     ],
     "prompt_number": 175
    }
   ]
  }
 ]
}