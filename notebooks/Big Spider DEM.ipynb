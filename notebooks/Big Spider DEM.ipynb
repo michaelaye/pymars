{
 "metadata": {
  "name": "Big Spider DEM"
 },
 "nbformat": 3,
 "nbformat_minor": 0,
 "worksheets": [
  {
   "cells": [
    {
     "cell_type": "code",
     "collapsed": false,
     "input": [
      "from mars import ImgData, Point\n",
      "from mars_spice import MarsSpicer\n",
      "from pdstools import get_north_azimuth\n",
      "from spider_insolation import correct_azimuth"
     ],
     "language": "python",
     "metadata": {},
     "outputs": [],
     "prompt_number": 1
    },
    {
     "cell_type": "code",
     "collapsed": false,
     "input": [
      "cd ~/data/hirise/inca"
     ],
     "language": "python",
     "metadata": {},
     "outputs": [
      {
       "output_type": "stream",
       "stream": "stdout",
       "text": [
        "/Users/maye/data/hirise/inca\n"
       ]
      }
     ],
     "prompt_number": 2
    },
    {
     "cell_type": "code",
     "collapsed": false,
     "input": [
      "import spider_insolation as si"
     ],
     "language": "python",
     "metadata": {},
     "outputs": [],
     "prompt_number": 3
    },
    {
     "cell_type": "markdown",
     "metadata": {},
     "source": [
      "## Verifying correct azimuth"
     ]
    },
    {
     "cell_type": "code",
     "collapsed": false,
     "input": [
      "si.correct_azimuth(si.dem,si.aspects)"
     ],
     "language": "python",
     "metadata": {},
     "outputs": [],
     "prompt_number": 4
    },
    {
     "cell_type": "code",
     "collapsed": false,
     "input": [
      "newPoint = si.get_north_shifted_point(si.dem)"
     ],
     "language": "python",
     "metadata": {},
     "outputs": [],
     "prompt_number": 5
    },
    {
     "cell_type": "code",
     "collapsed": false,
     "input": [
      "plot(newPoint.sample, newPoint.line, 'g*', markersize=10)"
     ],
     "language": "python",
     "metadata": {},
     "outputs": [
      {
       "output_type": "pyout",
       "prompt_number": 6,
       "text": [
        "[<matplotlib.lines.Line2D at 0x11ce2bd50>]"
       ]
      }
     ],
     "prompt_number": 6
    },
    {
     "cell_type": "code",
     "collapsed": false,
     "input": [
      "plot(si.dem.center.sample,si.dem.center.line,'r+',markersize=10)"
     ],
     "language": "python",
     "metadata": {},
     "outputs": [
      {
       "output_type": "pyout",
       "prompt_number": 7,
       "text": [
        "[<matplotlib.lines.Line2D at 0x10ccea810>]"
       ]
      }
     ],
     "prompt_number": 7
    },
    {
     "cell_type": "code",
     "collapsed": false,
     "input": [
      "v1 = array((newPoint.x - si.dem.center.x, newPoint.y - si.dem.center.y))"
     ],
     "language": "python",
     "metadata": {},
     "outputs": [],
     "prompt_number": 8
    },
    {
     "cell_type": "code",
     "collapsed": false,
     "input": [
      "v1"
     ],
     "language": "python",
     "metadata": {},
     "outputs": [
      {
       "output_type": "pyout",
       "prompt_number": 9,
       "text": [
        "array([-53.91922556,  26.15362019])"
       ]
      }
     ],
     "prompt_number": 9
    },
    {
     "cell_type": "code",
     "collapsed": false,
     "input": [
      "delta_angle = np.degrees(np.arctan2(v1[1],v1[0]))-90.0"
     ],
     "language": "python",
     "metadata": {},
     "outputs": [],
     "prompt_number": 10
    },
    {
     "cell_type": "code",
     "collapsed": false,
     "input": [
      "delta_angle"
     ],
     "language": "python",
     "metadata": {},
     "outputs": [
      {
       "output_type": "pyout",
       "prompt_number": 11,
       "text": [
        "64.124209696395724"
       ]
      }
     ],
     "prompt_number": 11
    },
    {
     "cell_type": "code",
     "collapsed": false,
     "input": [
      "label_north = get_north_azimuth(fname='./ESP_022607_0985_RED.LBL')"
     ],
     "language": "python",
     "metadata": {},
     "outputs": [
      {
       "ename": "NameError",
       "evalue": "global name 'get_pds_labels' is not defined",
       "output_type": "pyerr",
       "traceback": [
        "---------------------------------------------------------------------------\nNameError                                 Traceback (most recent call last)",
        "<ipython-input-12-e41e8bceeb21> in <module>()\n----> 1 label_north = get_north_azimuth(fname='./ESP_022607_0985_RED.LBL')\n",
        "/Users/maye/Dropbox/src/pymars/pdstools.pyc in get_north_azimuth(labels, fname)\n     28 def get_north_azimuth(labels=None, fname=None):\n     29     if fname is not None:\n---> 30         labels = get_pds_labels(fname)\n     31     return get_angle(labels,'VIEWING_PARAMETERS','NORTH_AZIMUTH')\n     32     \n",
        "NameError: global name 'get_pds_labels' is not defined"
       ]
      }
     ],
     "prompt_number": 12
    },
    {
     "cell_type": "code",
     "collapsed": false,
     "input": [
      "label_north - 180"
     ],
     "language": "python",
     "metadata": {},
     "outputs": [
      {
       "output_type": "pyout",
       "prompt_number": 353,
       "text": [
        "25.782186999999993"
       ]
      }
     ],
     "prompt_number": 353
    },
    {
     "cell_type": "code",
     "collapsed": false,
     "input": [
      "90 - delta_angle"
     ],
     "language": "python",
     "metadata": {},
     "outputs": [
      {
       "output_type": "pyout",
       "prompt_number": 354,
       "text": [
        "25.875790303604276"
       ]
      }
     ],
     "prompt_number": 354
    },
    {
     "cell_type": "code",
     "collapsed": false,
     "input": [
      "360-label_north"
     ],
     "language": "python",
     "metadata": {},
     "outputs": [
      {
       "output_type": "pyout",
       "prompt_number": 355,
       "text": [
        "154.217813"
       ]
      }
     ],
     "prompt_number": 355
    },
    {
     "cell_type": "markdown",
     "metadata": {},
     "source": [
      "## Verifying the inclination angle difference across HiRISE DEM"
     ]
    },
    {
     "cell_type": "code",
     "collapsed": false,
     "input": [
      "from pdstools import print_root_and_groups"
     ],
     "language": "python",
     "metadata": {},
     "outputs": [],
     "prompt_number": 356
    },
    {
     "cell_type": "code",
     "collapsed": false,
     "input": [
      "dem = ImgData('./DTM_Inca_City_ngate_1m_edited_forPDS.cub')"
     ],
     "language": "python",
     "metadata": {},
     "outputs": [],
     "prompt_number": 357
    },
    {
     "cell_type": "code",
     "collapsed": false,
     "input": [
      "newPoint = Point(0,0)"
     ],
     "language": "python",
     "metadata": {},
     "outputs": [],
     "prompt_number": 358
    },
    {
     "cell_type": "code",
     "collapsed": false,
     "input": [
      "newPoint.pixel_to_lonlat(dem.geotransform,dem.projection)"
     ],
     "language": "python",
     "metadata": {},
     "outputs": [
      {
       "output_type": "pyout",
       "prompt_number": 359,
       "text": [
        "(295.8191113940752, -81.3650624185438)"
       ]
      }
     ],
     "prompt_number": 359
    },
    {
     "cell_type": "code",
     "collapsed": false,
     "input": [
      "lr = Point(dem.X, dem.Y)"
     ],
     "language": "python",
     "metadata": {},
     "outputs": [],
     "prompt_number": 360
    },
    {
     "cell_type": "code",
     "collapsed": false,
     "input": [
      "lr.pixel_to_lonlat(dem.geotransform, dem.projection)"
     ],
     "language": "python",
     "metadata": {},
     "outputs": [
      {
       "output_type": "pyout",
       "prompt_number": 361,
       "text": [
        "(295.7359765276897, -81.60757119980049)"
       ]
      }
     ],
     "prompt_number": 361
    },
    {
     "cell_type": "code",
     "collapsed": false,
     "input": [
      "lr.lat"
     ],
     "language": "python",
     "metadata": {},
     "outputs": [
      {
       "output_type": "pyout",
       "prompt_number": 362,
       "text": [
        "-81.60757119980049"
       ]
      }
     ],
     "prompt_number": 362
    },
    {
     "cell_type": "code",
     "collapsed": false,
     "input": [
      "ms = MarsSpicer()"
     ],
     "language": "python",
     "metadata": {},
     "outputs": [],
     "prompt_number": 363
    },
    {
     "cell_type": "code",
     "collapsed": false,
     "input": [
      "ms.set_spoint_by(lon=newPoint.lon,lat=newPoint.lat)"
     ],
     "language": "python",
     "metadata": {},
     "outputs": [],
     "prompt_number": 364
    },
    {
     "cell_type": "code",
     "collapsed": false,
     "input": [
      "import pdstools"
     ],
     "language": "python",
     "metadata": {},
     "outputs": [],
     "prompt_number": 365
    },
    {
     "cell_type": "code",
     "collapsed": false,
     "input": [
      "labels = pdstools.get_pds_labels('./ESP_022607_0985_RED.LBL')"
     ],
     "language": "python",
     "metadata": {},
     "outputs": [],
     "prompt_number": 366
    },
    {
     "cell_type": "code",
     "collapsed": false,
     "input": [
      "time = pdstools.get_time(fname='./ESP_022607_0985_RED.LBL')"
     ],
     "language": "python",
     "metadata": {},
     "outputs": [],
     "prompt_number": 367
    },
    {
     "cell_type": "code",
     "collapsed": false,
     "input": [
      "ms.utc = time"
     ],
     "language": "python",
     "metadata": {},
     "outputs": [],
     "prompt_number": 368
    },
    {
     "cell_type": "code",
     "collapsed": false,
     "input": [
      "ms.time"
     ],
     "language": "python",
     "metadata": {},
     "outputs": [
      {
       "output_type": "pyout",
       "prompt_number": 369,
       "text": [
        "datetime.datetime(2011, 5, 24, 0, 58, 6, 402000)"
       ]
      }
     ],
     "prompt_number": 369
    },
    {
     "cell_type": "code",
     "collapsed": false,
     "input": [
      "ul_inc = ms.illum_angles.dsolar"
     ],
     "language": "python",
     "metadata": {},
     "outputs": [],
     "prompt_number": 370
    },
    {
     "cell_type": "code",
     "collapsed": false,
     "input": [
      "ms.set_spoint_by(lat=lr.lat,lon=lr.lon)"
     ],
     "language": "python",
     "metadata": {},
     "outputs": [],
     "prompt_number": 371
    },
    {
     "cell_type": "code",
     "collapsed": false,
     "input": [
      "lr_inc = ms.illum_angles.dsolar"
     ],
     "language": "python",
     "metadata": {},
     "outputs": [],
     "prompt_number": 372
    },
    {
     "cell_type": "markdown",
     "metadata": {},
     "source": [
      "Difference in incidence angles:"
     ]
    },
    {
     "cell_type": "code",
     "collapsed": false,
     "input": [
      "ul_inc - lr_inc"
     ],
     "language": "python",
     "metadata": {},
     "outputs": [
      {
       "output_type": "pyout",
       "prompt_number": 373,
       "text": [
        "-0.13766195123044866"
       ]
      }
     ],
     "prompt_number": 373
    },
    {
     "cell_type": "markdown",
     "metadata": {},
     "source": [
      "### we have shown now, that at least for this data we can use the incidence angle from the label. We will do the same for the emission and phase angle"
     ]
    },
    {
     "cell_type": "code",
     "collapsed": false,
     "input": [
      "inc = pdstools.get_incidence(labels)\n",
      "inc"
     ],
     "language": "python",
     "metadata": {},
     "outputs": [
      {
       "output_type": "pyout",
       "prompt_number": 374,
       "text": [
        "62.486405"
       ]
      }
     ],
     "prompt_number": 374
    },
    {
     "cell_type": "code",
     "collapsed": false,
     "input": [
      "emis = pdstools.get_emission(labels)\n",
      "emis"
     ],
     "language": "python",
     "metadata": {},
     "outputs": [
      {
       "output_type": "pyout",
       "prompt_number": 375,
       "text": [
        "7.362066"
       ]
      }
     ],
     "prompt_number": 375
    },
    {
     "cell_type": "code",
     "collapsed": false,
     "input": [
      "phase = pdstools.get_phase(labels)\n",
      "phase"
     ],
     "language": "python",
     "metadata": {},
     "outputs": [
      {
       "output_type": "pyout",
       "prompt_number": 376,
       "text": [
        "67.083972"
       ]
      }
     ],
     "prompt_number": 376
    },
    {
     "cell_type": "code",
     "collapsed": false,
     "input": [
      "ms.time"
     ],
     "language": "python",
     "metadata": {},
     "outputs": [
      {
       "output_type": "pyout",
       "prompt_number": 377,
       "text": [
        "datetime.datetime(2011, 5, 24, 0, 58, 6, 402000)"
       ]
      }
     ],
     "prompt_number": 377
    },
    {
     "cell_type": "code",
     "collapsed": false,
     "input": [
      "pdstools.get_time(labels)"
     ],
     "language": "python",
     "metadata": {},
     "outputs": [
      {
       "output_type": "pyout",
       "prompt_number": 378,
       "text": [
        "'2011-05-24T00:58:06.402'"
       ]
      }
     ],
     "prompt_number": 378
    },
    {
     "cell_type": "code",
     "collapsed": false,
     "input": [
      "ms.l_s"
     ],
     "language": "python",
     "metadata": {},
     "outputs": [
      {
       "output_type": "pyout",
       "prompt_number": 379,
       "text": [
        "298.13519618126884"
       ]
      }
     ],
     "prompt_number": 379
    },
    {
     "cell_type": "code",
     "collapsed": false,
     "input": [
      "ms.local_soltime"
     ],
     "language": "python",
     "metadata": {},
     "outputs": [
      {
       "output_type": "pyout",
       "prompt_number": 380,
       "text": [
        "(15, 16, 16, '15:16:16', '03:16:16 P.M.')"
       ]
      }
     ],
     "prompt_number": 380
    },
    {
     "cell_type": "code",
     "collapsed": false,
     "input": [
      "reload(pdstools)"
     ],
     "language": "python",
     "metadata": {},
     "outputs": [
      {
       "output_type": "pyout",
       "prompt_number": 381,
       "text": [
        "<module 'pdstools' from '/Users/maye/Dropbox/src/pymars/pdstools.pyc'>"
       ]
      }
     ],
     "prompt_number": 381
    },
    {
     "cell_type": "code",
     "collapsed": false,
     "input": [
      "ms.set_spoint_by(lat=pdstools.get_mean_lat(labels),lon=pdstools.get_mean_lon(labels))"
     ],
     "language": "python",
     "metadata": {},
     "outputs": [],
     "prompt_number": 382
    },
    {
     "cell_type": "code",
     "collapsed": false,
     "input": [
      "ms.lat"
     ],
     "language": "python",
     "metadata": {},
     "outputs": [
      {
       "output_type": "pyout",
       "prompt_number": 383,
       "text": [
        "-81.388068154926"
       ]
      }
     ],
     "prompt_number": 383
    },
    {
     "cell_type": "code",
     "collapsed": false,
     "input": [
      "ms.lon"
     ],
     "language": "python",
     "metadata": {},
     "outputs": [
      {
       "output_type": "pyout",
       "prompt_number": 384,
       "text": [
        "295.782187208945"
       ]
      }
     ],
     "prompt_number": 384
    },
    {
     "cell_type": "code",
     "collapsed": false,
     "input": [
      "dem.center.line"
     ],
     "language": "python",
     "metadata": {},
     "outputs": [
      {
       "output_type": "pyout",
       "prompt_number": 385,
       "text": [
        "3492"
       ]
      }
     ],
     "prompt_number": 385
    },
    {
     "cell_type": "code",
     "collapsed": false,
     "input": [
      "reload(pdstools)"
     ],
     "language": "python",
     "metadata": {},
     "outputs": [
      {
       "output_type": "pyout",
       "prompt_number": 386,
       "text": [
        "<module 'pdstools' from '/Users/maye/Dropbox/src/pymars/pdstools.pyc'>"
       ]
      }
     ],
     "prompt_number": 386
    },
    {
     "cell_type": "code",
     "collapsed": false,
     "input": [
      "pdstools.get_north_azimuth(labels)"
     ],
     "language": "python",
     "metadata": {},
     "outputs": [
      {
       "output_type": "pyout",
       "prompt_number": 387,
       "text": [
        "205.782187"
       ]
      }
     ],
     "prompt_number": 387
    },
    {
     "cell_type": "code",
     "collapsed": false,
     "input": [
      "pdstools.print_root_and_groups(labels)"
     ],
     "language": "python",
     "metadata": {},
     "outputs": [
      {
       "output_type": "stream",
       "stream": "stdout",
       "text": [
        "Root item: INSTRUMENT_ID \"HIRISE\"\n",
        "Root item: PRODUCER_INSTITUTION_NAME \"UNIVERSITY OF ARIZONA\"\n",
        "Root item: PRODUCT_ID \"ESP_022607_0985_RED\"\n",
        "Root item: OBSERVATION_ID \"ESP_022607_0985\"\n",
        "\n",
        "TIME_PARAMETERS\n",
        "-----------------\n",
        "['PRODUCT_CREATION_TIME', 'START_TIME', 'SPACECRAFT_CLOCK_STOP_COUNT', 'SPACECRAFT_CLOCK_START_COUNT', 'STOP_TIME', 'MRO:OBSERVATION_START_TIME']\n",
        "=================\n",
        "Root item: ORBIT_NUMBER 22607\n",
        "Root item: DATA_SET_ID \"MRO-M-HIRISE-3-RDR-V1.1\"\n",
        "Root item: PRODUCT_VERSION_ID \"1.0\"\n",
        "Root item: TARGET_NAME \"MARS\"\n",
        "Root item: INSTRUMENT_HOST_NAME \"MARS RECONNAISSANCE ORBITER\"\n",
        "Root item: NOT_APPLICABLE_CONSTANT -9998\n",
        "Root item: INSTRUMENT_HOST_ID \"MRO\"\n",
        "Root item: SOFTWARE_NAME \"PDS_to_JP2 v3.18 (1.52 2010/11/24 03:32:30)\"\n",
        "Root item: PRODUCER_FULL_NAME \"ALFRED MCEWEN\"\n",
        "Root item: PDS_VERSION_ID PDS3\n",
        "\n",
        "INSTRUMENT_SETTING_PARAMETERS\n",
        "-----------------\n",
        "['MRO:BINNING', 'MRO:CCD_FLAG', 'MRO:SPECIAL_PROCESSING_FLAG', 'MRO:TDI']\n",
        "=================\n",
        "\n",
        "IMAGE_MAP_PROJECTION\n",
        "-----------------\n",
        "['LINE_FIRST_PIXEL', 'C_AXIS_RADIUS', 'CENTER_LATITUDE', 'COORDINATE_SYSTEM_NAME', 'EASTERNMOST_LONGITUDE', 'MAP_SCALE', 'PROJECTION_LATITUDE_TYPE', 'WESTERNMOST_LONGITUDE', 'LINE_PROJECTION_OFFSET', 'SAMPLE_FIRST_PIXEL', 'MAP_RESOLUTION', 'CENTER_LONGITUDE', 'KEYWORD_LATITUDE_TYPE', 'LINE_LAST_PIXEL', 'MAP_PROJECTION_ROTATION', 'A_AXIS_RADIUS', 'SAMPLE_PROJECTION_OFFSET', 'B_AXIS_RADIUS', 'MAXIMUM_LATITUDE', 'MINIMUM_LATITUDE', '^DATA_SET_MAP_PROJECTION', 'POSITIVE_LONGITUDE_DIRECTION', 'SAMPLE_LAST_PIXEL', 'MAP_PROJECTION_TYPE']\n",
        "=================\n",
        "Root item: PRODUCER_ID \"UA\"\n",
        "\n",
        "COMPRESSED_FILE\n",
        "-----------------\n",
        "['FILE_NAME', 'ENCODING_TYPE', 'RECORD_TYPE', 'ENCODING_TYPE_VERSION_NAME', 'INTERCHANGE_FORMAT', 'REQUIRED_STORAGE_BYTES', '^DESCRIPTION', 'UNCOMPRESSED_FILE_NAME']\n",
        "=================\n",
        "Root item: SOURCE_PRODUCT_ID (ESP_022607_0985_RED0_0, ESP_022607_0985_RED0_1, ESP_022607_0985_RED1_0, ESP_022607_0985_RED1_1, ESP_022607_0985_RED2_0, ESP_022607_0985_RED2_1, ESP_022607_0985_RED3_0, ESP_022607_0985_RED3_1, ESP_022607_0985_RED4_0, ESP_022607_0985_RED4_1, ESP_022607_0985_RED5_0, ESP_022607_0985_RED5_1, ESP_022607_0985_RED6_0, ESP_022607_0985_RED6_1, ESP_022607_0985_RED7_0, ESP_022607_0985_RED7_1, ESP_022607_0985_RED8_0, ESP_022607_0985_RED8_1, ESP_022607_0985_RED9_0, ESP_022607_0985_RED9_1)\n",
        "Root item: RATIONALE_DESC \"Inca City ice-free\"\n",
        "\n",
        "UNCOMPRESSED_FILE\n",
        "-----------------\n",
        "['FILE_RECORDS', 'FILE_NAME', 'IMAGE', 'RECORD_TYPE', '^IMAGE', 'RECORD_BYTES']\n",
        "=================\n",
        "Root item: DATA_SET_NAME \"MRO MARS HIGH RESOLUTION IMAGING SCIENCE EXPERIMENT RDR V1.1\"\n",
        "Root item: MISSION_PHASE_NAME \"EXTENDED SCIENCE PHASE\"\n",
        "Root item: INSTRUMENT_NAME \"HIGH RESOLUTION IMAGING SCIENCE EXPERIMENT\"\n",
        "\n",
        "VIEWING_PARAMETERS\n",
        "-----------------\n",
        "['NORTH_AZIMUTH', 'SOLAR_LONGITUDE', 'INCIDENCE_ANGLE', 'PHASE_ANGLE', 'LOCAL_TIME', 'SUB_SOLAR_AZIMUTH', 'EMISSION_ANGLE']\n",
        "=================\n"
       ]
      }
     ],
     "prompt_number": 388
    },
    {
     "cell_type": "code",
     "collapsed": false,
     "input": [
      "labels['VIEWING_PARAMETERS']"
     ],
     "language": "python",
     "metadata": {},
     "outputs": [
      {
       "output_type": "pyout",
       "prompt_number": 390,
       "text": [
        "{'EMISSION_ANGLE': '7.362066 <DEG>',\n",
        " 'INCIDENCE_ANGLE': '62.486405 <DEG>',\n",
        " 'LOCAL_TIME': '15.27486 <LOCALDAY/24>',\n",
        " 'NORTH_AZIMUTH': '205.782187 <DEG>',\n",
        " 'PHASE_ANGLE': '67.083972 <DEG>',\n",
        " 'SOLAR_LONGITUDE': '298.135211 <DEG>',\n",
        " 'SUB_SOLAR_AZIMUTH': '153.578208 <DEG>'}"
       ]
      }
     ],
     "prompt_number": 390
    },
    {
     "cell_type": "code",
     "collapsed": false,
     "input": [
      "pdstools.get_sub_sc_azimuth(labels)"
     ],
     "language": "python",
     "metadata": {},
     "outputs": [
      {
       "output_type": "pyout",
       "prompt_number": 396,
       "text": [
        "127.23702787697037"
       ]
      }
     ],
     "prompt_number": 396
    },
    {
     "cell_type": "code",
     "collapsed": false,
     "input": [
      "slopes.data."
     ],
     "language": "python",
     "metadata": {},
     "outputs": [
      {
       "output_type": "pyout",
       "prompt_number": 398,
       "text": [
        "masked_array(data =\n",
        " [[-- -- -- ..., -- -- --]\n",
        " [-- 6.02651548386 6.67276000977 ..., 6.29604291916 9.12123298645 --]\n",
        " [-- 7.11274719238 6.52951097488 ..., 4.02688837051 5.98854494095 --]\n",
        " ..., \n",
        " [-- 1.84212481976 0.981288135052 ..., 2.22499036789 1.14047431946 --]\n",
        " [-- 1.63856887817 2.14080715179 ..., 2.55684018135 1.74793350697 --]\n",
        " [-- -- -- ..., -- -- --]],\n",
        "             mask =\n",
        " [[ True  True  True ...,  True  True  True]\n",
        " [ True False False ..., False False  True]\n",
        " [ True False False ..., False False  True]\n",
        " ..., \n",
        " [ True False False ..., False False  True]\n",
        " [ True False False ..., False False  True]\n",
        " [ True  True  True ...,  True  True  True]],\n",
        "       fill_value = -9999.0)\n"
       ]
      }
     ],
     "prompt_number": 398
    },
    {
     "cell_type": "code",
     "collapsed": false,
     "input": [],
     "language": "python",
     "metadata": {},
     "outputs": [],
     "prompt_number": 393
    },
    {
     "cell_type": "code",
     "collapsed": false,
     "input": [],
     "language": "python",
     "metadata": {},
     "outputs": []
    }
   ],
   "metadata": {}
  }
 ]
}