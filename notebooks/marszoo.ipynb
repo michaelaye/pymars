{
 "metadata": {
  "name": "marszoo"
 },
 "nbformat": 3,
 "nbformat_minor": 0,
 "worksheets": [
  {
   "cells": [
    {
     "cell_type": "code",
     "collapsed": false,
     "input": [
      "import pandas as pd\n",
      "import diviner as div\n",
      "import calib as c\n",
      "import sys\n",
      "from scipy import ndimage as nd\n",
      "reload(c)"
     ],
     "language": "python",
     "metadata": {},
     "outputs": [
      {
       "output_type": "pyout",
       "prompt_number": 1,
       "text": [
        "<module 'calib' from 'calib.pyc'>"
       ]
      }
     ],
     "prompt_number": 1
    },
    {
     "cell_type": "code",
     "collapsed": false,
     "input": [
      "cd ~/Dropbox/DDocuments/marszoo/"
     ],
     "language": "python",
     "metadata": {},
     "outputs": [
      {
       "output_type": "stream",
       "stream": "stdout",
       "text": [
        "/Users/maye/Dropbox/DDocuments/marszoo\n"
       ]
      }
     ],
     "prompt_number": 2
    },
    {
     "cell_type": "code",
     "collapsed": false,
     "input": [
      "df = pd.io.parsers.read_csv('location.csv',index_col=0, names=['id','url'])"
     ],
     "language": "python",
     "metadata": {},
     "outputs": [],
     "prompt_number": 3
    },
    {
     "cell_type": "code",
     "collapsed": false,
     "input": [
      "df.head()"
     ],
     "language": "python",
     "metadata": {},
     "outputs": [
      {
       "html": [
        "<div style=\"max-height:1000px;max-width:1500px;overflow:auto;\">\n",
        "<table border=\"1\" class=\"dataframe\">\n",
        "  <thead>\n",
        "    <tr style=\"text-align: right;\">\n",
        "      <th></th>\n",
        "      <th>url</th>\n",
        "    </tr>\n",
        "    <tr>\n",
        "      <th>id</th>\n",
        "      <th></th>\n",
        "    </tr>\n",
        "  </thead>\n",
        "  <tbody>\n",
        "    <tr>\n",
        "      <td><strong>APF0000ib0</strong></td>\n",
        "      <td> http://hirise-pds.lpl.arizona.edu/download/PDS...</td>\n",
        "    </tr>\n",
        "    <tr>\n",
        "      <td><strong>APF0000ib1</strong></td>\n",
        "      <td> http://hirise-pds.lpl.arizona.edu/download/PDS...</td>\n",
        "    </tr>\n",
        "    <tr>\n",
        "      <td><strong>APF0000ib2</strong></td>\n",
        "      <td> http://hirise-pds.lpl.arizona.edu/download/PDS...</td>\n",
        "    </tr>\n",
        "    <tr>\n",
        "      <td><strong>APF0000ib3</strong></td>\n",
        "      <td> http://hirise-pds.lpl.arizona.edu/download/PDS...</td>\n",
        "    </tr>\n",
        "    <tr>\n",
        "      <td><strong>APF0000ib4</strong></td>\n",
        "      <td> http://hirise-pds.lpl.arizona.edu/download/PDS...</td>\n",
        "    </tr>\n",
        "  </tbody>\n",
        "</table>\n",
        "</div>"
       ],
       "output_type": "pyout",
       "prompt_number": 4,
       "text": [
        "                                                          url\n",
        "id                                                           \n",
        "APF0000ib0  http://hirise-pds.lpl.arizona.edu/download/PDS...\n",
        "APF0000ib1  http://hirise-pds.lpl.arizona.edu/download/PDS...\n",
        "APF0000ib2  http://hirise-pds.lpl.arizona.edu/download/PDS...\n",
        "APF0000ib3  http://hirise-pds.lpl.arizona.edu/download/PDS...\n",
        "APF0000ib4  http://hirise-pds.lpl.arizona.edu/download/PDS..."
       ]
      }
     ],
     "prompt_number": 4
    },
    {
     "cell_type": "code",
     "collapsed": false,
     "input": [
      "import os.path\n",
      "def get_obs_id(value):\n",
      "    basename = os.path.basename(value)\n",
      "    return \"_\".join(basename.split(\"_\")[:3])"
     ],
     "language": "python",
     "metadata": {},
     "outputs": [],
     "prompt_number": 5
    },
    {
     "cell_type": "code",
     "collapsed": false,
     "input": [
      "df['obsid']=df.url.map(get_obs_id)"
     ],
     "language": "python",
     "metadata": {},
     "outputs": [],
     "prompt_number": 6
    },
    {
     "cell_type": "code",
     "collapsed": false,
     "input": [
      "df"
     ],
     "language": "python",
     "metadata": {},
     "outputs": [
      {
       "output_type": "pyout",
       "prompt_number": 7,
       "text": [
        "<class 'pandas.core.frame.DataFrame'>\n",
        "Index: 42904 entries, APF0000ib0 to APF0000x3s\n",
        "Data columns:\n",
        "url      42904  non-null values\n",
        "obsid    42904  non-null values\n",
        "dtypes: object(2)"
       ]
      }
     ],
     "prompt_number": 7
    },
    {
     "cell_type": "code",
     "collapsed": false,
     "input": [
      "def add_uahirise(value):\n",
      "    return \"http://uahirise.org/\"+value"
     ],
     "language": "python",
     "metadata": {},
     "outputs": [],
     "prompt_number": 8
    },
    {
     "cell_type": "code",
     "collapsed": false,
     "input": [
      "df['home_url'] = df.obsid.map(add_uahirise)"
     ],
     "language": "python",
     "metadata": {},
     "outputs": [],
     "prompt_number": 9
    },
    {
     "cell_type": "code",
     "collapsed": false,
     "input": [
      "df"
     ],
     "language": "python",
     "metadata": {},
     "outputs": [
      {
       "output_type": "pyout",
       "prompt_number": 10,
       "text": [
        "<class 'pandas.core.frame.DataFrame'>\n",
        "Index: 42904 entries, APF0000ib0 to APF0000x3s\n",
        "Data columns:\n",
        "url         42904  non-null values\n",
        "obsid       42904  non-null values\n",
        "home_url    42904  non-null values\n",
        "dtypes: object(3)"
       ]
      }
     ],
     "prompt_number": 10
    },
    {
     "cell_type": "code",
     "collapsed": false,
     "input": [
      "df.ix['APF0000tma']"
     ],
     "language": "python",
     "metadata": {},
     "outputs": [
      {
       "output_type": "pyout",
       "prompt_number": 11,
       "text": [
        "url         http://hirise-pds.lpl.arizona.edu/download/PDS...\n",
        "obsid                                         ESP_020427_0930\n",
        "home_url                  http://uahirise.org/ESP_020427_0930\n",
        "Name: APF0000tma"
       ]
      }
     ],
     "prompt_number": 11
    },
    {
     "cell_type": "code",
     "collapsed": false,
     "input": [
      "excel = pd.io.parsers.ExcelFile('./hireport_south_mars_zoo_v2.xls')"
     ],
     "language": "python",
     "metadata": {},
     "outputs": [],
     "prompt_number": 12
    },
    {
     "cell_type": "code",
     "collapsed": false,
     "input": [
      "year2 = excel.parse('South_year_2',index_col=0,skiprows=0)"
     ],
     "language": "python",
     "metadata": {},
     "outputs": [],
     "prompt_number": 13
    },
    {
     "cell_type": "code",
     "collapsed": false,
     "input": [
      "year3 = excel.parse(\"South_year_3\",index_col=0)"
     ],
     "language": "python",
     "metadata": {},
     "outputs": [],
     "prompt_number": 14
    },
    {
     "cell_type": "code",
     "collapsed": false,
     "input": [
      "year2"
     ],
     "language": "python",
     "metadata": {},
     "outputs": [
      {
       "output_type": "pyout",
       "prompt_number": 15,
       "text": [
        "<class 'pandas.core.frame.DataFrame'>\n",
        "Index: 154 entries, nan to ESP_012817_0925\n",
        "Data columns:\n",
        "lat\u00ac\u221e          129  non-null values\n",
        "lon\u00ac\u221e          129  non-null values\n",
        "Ls\u00ac\u221e           129  non-null values\n",
        "time           129  non-null values\n",
        "Comment        129  non-null values\n",
        "Unnamed: 6     0  non-null values\n",
        "Unnamed: 7     0  non-null values\n",
        "Unnamed: 8     0  non-null values\n",
        "Unnamed: 9     1  non-null values\n",
        "Unnamed: 10    0  non-null values\n",
        "Unnamed: 11    0  non-null values\n",
        "Unnamed: 12    2  non-null values\n",
        "dtypes: float64(8), object(4)"
       ]
      }
     ],
     "prompt_number": 15
    },
    {
     "cell_type": "code",
     "collapsed": false,
     "input": [
      "year3"
     ],
     "language": "python",
     "metadata": {},
     "outputs": [
      {
       "output_type": "pyout",
       "prompt_number": 16,
       "text": [
        "<class 'pandas.core.frame.DataFrame'>\n",
        "Index: 108 entries, nan to ESP_020386_0925\n",
        "Data columns:\n",
        "lat\u00ac\u221e         92  non-null values\n",
        "lon\u00ac\u221e         92  non-null values\n",
        "Ls\u00ac\u221e          92  non-null values\n",
        "Unnamed: 4    0  non-null values\n",
        "Comment       92  non-null values\n",
        "time          92  non-null values\n",
        "Unnamed: 7    0  non-null values\n",
        "Unnamed: 8    14  non-null values\n",
        "Unnamed: 9    4  non-null values\n",
        "dtypes: float64(5), object(4)"
       ]
      }
     ],
     "prompt_number": 16
    },
    {
     "cell_type": "code",
     "collapsed": false,
     "input": [
      "year2 = year2.dropna(how='all')\n",
      "year2 = year2.dropna(how='all',axis=1)\n",
      "year3 = year3.dropna(how='all')\n",
      "year3 = year3.dropna(how='all',axis=1)"
     ],
     "language": "python",
     "metadata": {},
     "outputs": [],
     "prompt_number": 17
    },
    {
     "cell_type": "code",
     "collapsed": false,
     "input": [
      "year2.head()"
     ],
     "language": "python",
     "metadata": {},
     "outputs": [
      {
       "html": [
        "<div style=\"max-height:1000px;max-width:1500px;overflow:auto;\">\n",
        "<table border=\"1\" class=\"dataframe\">\n",
        "  <thead>\n",
        "    <tr style=\"text-align: right;\">\n",
        "      <th></th>\n",
        "      <th>lat\u00ac\u221e</th>\n",
        "      <th>lon\u00ac\u221e</th>\n",
        "      <th>Ls\u00ac\u221e</th>\n",
        "      <th>time</th>\n",
        "      <th>Comment</th>\n",
        "      <th>Unnamed: 9</th>\n",
        "      <th>Unnamed: 12</th>\n",
        "    </tr>\n",
        "    <tr>\n",
        "      <th>Observation_id</th>\n",
        "      <th></th>\n",
        "      <th></th>\n",
        "      <th></th>\n",
        "      <th></th>\n",
        "      <th></th>\n",
        "      <th></th>\n",
        "      <th></th>\n",
        "    </tr>\n",
        "  </thead>\n",
        "  <tbody>\n",
        "    <tr>\n",
        "      <td><strong>ESP_012254_1065</strong></td>\n",
        "      <td>-73.474</td>\n",
        "      <td> 339.506</td>\n",
        "      <td> 223.223</td>\n",
        "      <td>  2009-Mar-08-67T07:51:45</td>\n",
        "      <td> 32792 OMEGA observes here transformation of CO...</td>\n",
        "      <td> NaN</td>\n",
        "      <td> NaN</td>\n",
        "    </tr>\n",
        "    <tr>\n",
        "      <td><strong>ESP_012887_1065</strong></td>\n",
        "      <td>-73.474</td>\n",
        "      <td> 339.506</td>\n",
        "      <td> 254.349</td>\n",
        "      <td> 2009-Apr-26-116T15:38:48</td>\n",
        "      <td> 32794 Carbon dioxide transformation from snow ...</td>\n",
        "      <td> NaN</td>\n",
        "      <td> NaN</td>\n",
        "    </tr>\n",
        "    <tr>\n",
        "      <td><strong>ESP_011680_1055</strong></td>\n",
        "      <td>-74.225</td>\n",
        "      <td> 168.513</td>\n",
        "      <td> 196.067</td>\n",
        "      <td>  2009-Jan-22-22T14:25:53</td>\n",
        "      <td>     4188 Caterpillar evolution Seasonal Processes</td>\n",
        "      <td> NaN</td>\n",
        "      <td> NaN</td>\n",
        "    </tr>\n",
        "    <tr>\n",
        "      <td><strong>ESP_013113_0985</strong></td>\n",
        "      <td>-81.321</td>\n",
        "      <td> 295.719</td>\n",
        "      <td> 265.501</td>\n",
        "      <td> 2009-May-14-134T06:13:50</td>\n",
        "      <td> 11128 Inca City and monitoring of spider evolu...</td>\n",
        "      <td> NaN</td>\n",
        "      <td> NaN</td>\n",
        "    </tr>\n",
        "    <tr>\n",
        "      <td><strong>ESP_013034_0985</strong></td>\n",
        "      <td>-81.321</td>\n",
        "      <td> 295.719</td>\n",
        "      <td> 261.609</td>\n",
        "      <td> 2009-May-08-128T02:29:58</td>\n",
        "      <td> 11124 Inca City and monitoring of spider evolu...</td>\n",
        "      <td> NaN</td>\n",
        "      <td> NaN</td>\n",
        "    </tr>\n",
        "  </tbody>\n",
        "</table>\n",
        "</div>"
       ],
       "output_type": "pyout",
       "prompt_number": 18,
       "text": [
        "                  lat\u00ac\u221e    lon\u00ac\u221e     Ls\u00ac\u221e                      time  \\\n",
        "Observation_id                                                        \n",
        "ESP_012254_1065 -73.474  339.506  223.223   2009-Mar-08-67T07:51:45   \n",
        "ESP_012887_1065 -73.474  339.506  254.349  2009-Apr-26-116T15:38:48   \n",
        "ESP_011680_1055 -74.225  168.513  196.067   2009-Jan-22-22T14:25:53   \n",
        "ESP_013113_0985 -81.321  295.719  265.501  2009-May-14-134T06:13:50   \n",
        "ESP_013034_0985 -81.321  295.719  261.609  2009-May-08-128T02:29:58   \n",
        "\n",
        "                                                           Comment Unnamed: 9  \\\n",
        "Observation_id                                                                  \n",
        "ESP_012254_1065  32792 OMEGA observes here transformation of CO...        NaN   \n",
        "ESP_012887_1065  32794 Carbon dioxide transformation from snow ...        NaN   \n",
        "ESP_011680_1055      4188 Caterpillar evolution Seasonal Processes        NaN   \n",
        "ESP_013113_0985  11128 Inca City and monitoring of spider evolu...        NaN   \n",
        "ESP_013034_0985  11124 Inca City and monitoring of spider evolu...        NaN   \n",
        "\n",
        "                Unnamed: 12  \n",
        "Observation_id               \n",
        "ESP_012254_1065         NaN  \n",
        "ESP_012887_1065         NaN  \n",
        "ESP_011680_1055         NaN  \n",
        "ESP_013113_0985         NaN  \n",
        "ESP_013034_0985         NaN  "
       ]
      }
     ],
     "prompt_number": 18
    },
    {
     "cell_type": "code",
     "collapsed": false,
     "input": [
      "year2.columns = ['lat','lon','Ls','time','comment','unnamed1','unnamed2']"
     ],
     "language": "python",
     "metadata": {},
     "outputs": [],
     "prompt_number": 19
    },
    {
     "cell_type": "code",
     "collapsed": false,
     "input": [
      "year3.columns = ['lat','lon','Ls','comment','time','unnamed1','unnamed2']"
     ],
     "language": "python",
     "metadata": {},
     "outputs": [],
     "prompt_number": 20
    },
    {
     "cell_type": "code",
     "collapsed": false,
     "input": [
      "from datetime import datetime\n",
      "def to_pd_time(value):\n",
      "    return pd.Timestamp(datetime.strptime(value, '%Y-%b-%d-%jT%H:%M:%S'))"
     ],
     "language": "python",
     "metadata": {},
     "outputs": [],
     "prompt_number": 21
    },
    {
     "cell_type": "code",
     "collapsed": false,
     "input": [
      "year2.time = year2.time.map(to_pd_time)"
     ],
     "language": "python",
     "metadata": {},
     "outputs": [],
     "prompt_number": 22
    },
    {
     "cell_type": "code",
     "collapsed": false,
     "input": [
      "year2.time = pd.DatetimeIndex(year2.time)"
     ],
     "language": "python",
     "metadata": {},
     "outputs": [],
     "prompt_number": 23
    },
    {
     "cell_type": "code",
     "collapsed": false,
     "input": [
      "year3.time = year3.time.map(to_pd_time)"
     ],
     "language": "python",
     "metadata": {},
     "outputs": [],
     "prompt_number": 24
    },
    {
     "cell_type": "code",
     "collapsed": false,
     "input": [
      "year3.time = pd.DatetimeIndex(year3.time)"
     ],
     "language": "python",
     "metadata": {},
     "outputs": [],
     "prompt_number": 25
    },
    {
     "cell_type": "code",
     "collapsed": false,
     "input": [
      "year2['year']='year2'"
     ],
     "language": "python",
     "metadata": {},
     "outputs": [],
     "prompt_number": 26
    },
    {
     "cell_type": "code",
     "collapsed": false,
     "input": [
      "year3['year']='year3'"
     ],
     "language": "python",
     "metadata": {},
     "outputs": [],
     "prompt_number": 27
    },
    {
     "cell_type": "code",
     "collapsed": false,
     "input": [
      "year2.index"
     ],
     "language": "python",
     "metadata": {},
     "outputs": [
      {
       "output_type": "pyout",
       "prompt_number": 28,
       "text": [
        "Index([ESP_012254_1065, ESP_012887_1065, ESP_011680_1055, ESP_013113_0985, ESP_013034_0985, ESP_012889_0985, ESP_012744_0985, ESP_012691_0985, ESP_012467_0985, ESP_012322_0985, ESP_012256_0985, ESP_011900_0985, ESP_011729_0985, ESP_011702_0985, ESP_011623_0985, ESP_011557_0985, ESP_011544_0985, ESP_011491_0985, ESP_011460_0980, ESP_011526_0980, ESP_011737_0980, ESP_012515_0980, ESP_012594_0980, ESP_012805_0980, ESP_012871_0980, ESP_011341_0980, ESP_011486_0980, ESP_011697_0980, ESP_011842_0980, ESP_012053_0980, ESP_012264_0980, ESP_012607_0980, ESP_011370_0980, ESP_011515_0980, ESP_011792_0980, ESP_012227_0980, ESP_012504_0980, ESP_012860_0980, ESP_012939_0980, ESP_012225_0980, ESP_012291_0980, ESP_012304_0980, ESP_012436_0980, ESP_012647_0980, ESP_011296_0975, ESP_012008_0975, ESP_012348_0975, ESP_012277_0975, ESP_012620_0975, ESP_011413_0970, ESP_012248_0965, ESP_012314_0965, ESP_012393_0965, ESP_012604_0965, ESP_011447_0950, ESP_011448_0950, ESP_011777_0950, ESP_011843_0950, ESP_012265_0950, ESP_012344_0950, ESP_012753_0950, ESP_012836_0850, ESP_012845_0950, ESP_012212_0950, ESP_012704_0850, ESP_011921_0950, ESP_011348_0950, ESP_012693_0950, ESP_012838_0950, ESP_013049_0950, ESP_013260_0950, ESP_011350_0945, ESP_011351_0945, ESP_011403_0945, ESP_011404_0945, ESP_011931_0945, ESP_012063_0945, ESP_012076_0945, ESP_012643_0945, ESP_012854_0945, ESP_012858_0855, ESP_011406_0945, ESP_011407_0945, ESP_011723_0945, ESP_011934_0945, ESP_012079_0945, ESP_012290_0945, ESP_012501_0945, ESP_011394_0935, ESP_011671_0935, ESP_011961_0935, ESP_012251_0935, ESP_012739_0935, ESP_012821_0865, ESP_012884_0935, ESP_013016_0935, ESP_013095_0935, ESP_011431_0930, ESP_012077_0930, ESP_012499_0930, ESP_012038_0930, ESP_012671_0930, ESP_012816_0930, ESP_011711_0930, ESP_011856_0930, ESP_012634_0930, ESP_012779_0930, ESP_012990_0930, ESP_011420_0930, ESP_011565_0930, ESP_011776_0930, ESP_012211_0930, ESP_012488_0930, ESP_012633_0930, ESP_012844_0930, ESP_011408_0930, ESP_011606_0930, ESP_012028_0930, ESP_012463_0930, ESP_012819_0930, ESP_013030_0930, ESP_011422_0930, ESP_012081_0930, ESP_012648_0930, ESP_011960_0925, ESP_012316_0925, ESP_012461_0925, ESP_012527_0925, ESP_012817_0925], dtype=object)"
       ]
      }
     ],
     "prompt_number": 28
    },
    {
     "cell_type": "code",
     "collapsed": false,
     "input": [
      "year3.index"
     ],
     "language": "python",
     "metadata": {},
     "outputs": [
      {
       "output_type": "pyout",
       "prompt_number": 29,
       "text": [
        "Index([ESP_022699_0985, ESP_021460_0985, ESP_020959_0985, ESP_020748_0985, ESP_020194_0985, ESP_020128_0985, ESP_020049_0985, ESP_021829_0985, ESP_021684_0985, ESP_021671_0985, ESP_021605_0985, ESP_021526_0985, ESP_020827_0985, ESP_020339_0985, ESP_020115_0985, ESP_022510_0980, ESP_021587_0980, ESP_021574_0980, ESP_021521_0980, ESP_021508_0980, ESP_020941_0980, ESP_020875_0980, ESP_020374_0980, ESP_020163_0980, ESP_021969_0980, ESP_020756_0980, ESP_020677_0980, ESP_021642_0980, ESP_021497_0980, ESP_020930_0980, ESP_020719_0980, ESP_020508_0980, ESP_020376_0980, ESP_020297_0980, ESP_022273_0950, ESP_021482_0950, ESP_020902_0950, ESP_020783_0950, ESP_020480_0950, ESP_020401_0950, ESP_020150_0950, ESP_021491_0950, ESP_020779_0950, ESP_020568_0950, ESP_020476_0950, ESP_020357_0950, ESP_020146_0950, ESP_022193_0950, ESP_021494_0945, ESP_020927_0945, ESP_020782_0945, ESP_020716_0945, ESP_020571_0945, ESP_020294_0945, ESP_020242_0945, ESP_022339_0935, ESP_021468_0935, ESP_020888_0935, ESP_020532_0935, ESP_020255_0935, ESP_022260_0935, ESP_021495_0935, ESP_021455_0935, ESP_020954_0935, ESP_020598_0935, ESP_020519_0935, ESP_020321_0935, ESP_020214_0935, ESP_020202_0935, ESP_020780_0930, ESP_020427_0930, ESP_020282_0930, ESP_020176_0930, ESP_022379_0930, ESP_021654_0930, ESP_021522_0930, ESP_021483_0930, ESP_020955_0930, ESP_020731_0930, ESP_020678_0930, ESP_020533_0930, ESP_020322_0930, ESP_020229_0930, ESP_021903_0930, ESP_020558_0930, ESP_020347_0930, ESP_021520_0925, ESP_021454_0925, ESP_020953_0925, ESP_020742_0925, ESP_020597_0925, ESP_020386_0925], dtype=object)"
       ]
      }
     ],
     "prompt_number": 29
    },
    {
     "cell_type": "code",
     "collapsed": false,
     "input": [
      "df.index"
     ],
     "language": "python",
     "metadata": {},
     "outputs": [
      {
       "output_type": "pyout",
       "prompt_number": 30,
       "text": [
        "Index([APF0000ib0, APF0000ib1, APF0000ib2, ..., APF0000x3q, APF0000x3r, APF0000x3s], dtype=object)"
       ]
      }
     ],
     "prompt_number": 30
    },
    {
     "cell_type": "code",
     "collapsed": false,
     "input": [
      "df.columns"
     ],
     "language": "python",
     "metadata": {},
     "outputs": [
      {
       "output_type": "pyout",
       "prompt_number": 31,
       "text": [
        "Index([url, obsid, home_url], dtype=object)"
       ]
      }
     ],
     "prompt_number": 31
    },
    {
     "cell_type": "code",
     "collapsed": false,
     "input": [
      "y2merged = year2.merge(df, left_index=True, right_on='obsid')"
     ],
     "language": "python",
     "metadata": {},
     "outputs": [],
     "prompt_number": 32
    },
    {
     "cell_type": "code",
     "collapsed": false,
     "input": [
      "y3merged = year3.merge(df, left_index=True, right_on='obsid')"
     ],
     "language": "python",
     "metadata": {},
     "outputs": [],
     "prompt_number": 33
    },
    {
     "cell_type": "code",
     "collapsed": false,
     "input": [
      "y2merged.columns"
     ],
     "language": "python",
     "metadata": {},
     "outputs": [
      {
       "output_type": "pyout",
       "prompt_number": 34,
       "text": [
        "Index([lat, lon, Ls, time, comment, unnamed1, unnamed2, year, url, obsid, home_url], dtype=object)"
       ]
      }
     ],
     "prompt_number": 34
    },
    {
     "cell_type": "code",
     "collapsed": false,
     "input": [
      "y3merged.columns"
     ],
     "language": "python",
     "metadata": {},
     "outputs": [
      {
       "output_type": "pyout",
       "prompt_number": 35,
       "text": [
        "Index([lat, lon, Ls, comment, time, unnamed1, unnamed2, year, url, obsid, home_url], dtype=object)"
       ]
      }
     ],
     "prompt_number": 35
    },
    {
     "cell_type": "code",
     "collapsed": false,
     "input": [
      "merged = pd.concat([y2merged,y3merged])"
     ],
     "language": "python",
     "metadata": {},
     "outputs": [],
     "prompt_number": 36
    },
    {
     "cell_type": "code",
     "collapsed": false,
     "input": [
      "pwd"
     ],
     "language": "python",
     "metadata": {},
     "outputs": [
      {
       "output_type": "pyout",
       "prompt_number": 37,
       "text": [
        "u'/Users/maye/Dropbox/DDocuments/marszoo'"
       ]
      }
     ],
     "prompt_number": 37
    },
    {
     "cell_type": "code",
     "collapsed": false,
     "input": [
      "merged.save('merged.df')"
     ],
     "language": "python",
     "metadata": {},
     "outputs": [],
     "prompt_number": 38
    },
    {
     "cell_type": "code",
     "collapsed": false,
     "input": [
      "merged.ix['APF0000hdj']"
     ],
     "language": "python",
     "metadata": {},
     "outputs": [
      {
       "output_type": "pyout",
       "prompt_number": 39,
       "text": [
        "Ls                                                    214.885\n",
        "comment        31460 Araneiform morphology Seasonal Processes\n",
        "home_url                  http://uahirise.org/ESP_012081_0930\n",
        "lat                                                   -87.039\n",
        "lon                                                    72.304\n",
        "obsid                                         ESP_012081_0930\n",
        "time                                      2009-02-22 20:16:07\n",
        "unnamed1                                                  NaN\n",
        "unnamed2                                                  NaN\n",
        "url         http://hirise-pds.lpl.arizona.edu/download/PDS...\n",
        "year                                                    year2\n",
        "Name: APF0000hdj"
       ]
      }
     ],
     "prompt_number": 39
    },
    {
     "cell_type": "code",
     "collapsed": false,
     "input": [
      "merged[merged.obsid=='ESP_011348_0950'].lat.unique()"
     ],
     "language": "python",
     "metadata": {},
     "outputs": [
      {
       "output_type": "pyout",
       "prompt_number": 40,
       "text": [
        "array([-85.029])"
       ]
      }
     ],
     "prompt_number": 40
    },
    {
     "cell_type": "code",
     "collapsed": false,
     "input": [
      "merged[merged.lat.round(2)==-85.03].obsid.unique()"
     ],
     "language": "python",
     "metadata": {},
     "outputs": [
      {
       "output_type": "pyout",
       "prompt_number": 41,
       "text": [
        "array([ESP_011348_0950, ESP_012693_0950, ESP_012838_0950, ESP_013049_0950,\n",
        "       ESP_013260_0950], dtype=object)"
       ]
      }
     ],
     "prompt_number": 41
    },
    {
     "cell_type": "code",
     "collapsed": false,
     "input": [
      "merged.home_url[merged.obsid=='ESP_012693_0950'].unique()"
     ],
     "language": "python",
     "metadata": {},
     "outputs": [
      {
       "output_type": "pyout",
       "prompt_number": 42,
       "text": [
        "array([http://uahirise.org/ESP_012693_0950], dtype=object)"
       ]
      }
     ],
     "prompt_number": 42
    },
    {
     "cell_type": "code",
     "collapsed": false,
     "input": [
      "merged.ix['APF0000j2s']"
     ],
     "language": "python",
     "metadata": {},
     "outputs": [
      {
       "output_type": "pyout",
       "prompt_number": 43,
       "text": [
        "Ls                                                    207.782\n",
        "comment     55298 Observe early spring evolution in Inca C...\n",
        "home_url                  http://uahirise.org/ESP_020748_0985\n",
        "lat                                                   -81.378\n",
        "lon                                                   295.757\n",
        "obsid                                         ESP_020748_0985\n",
        "time                                      2010-12-30 04:24:21\n",
        "unnamed1                                                  NaN\n",
        "unnamed2                                                  NaN\n",
        "url         http://hirise-pds.lpl.arizona.edu/download/PDS...\n",
        "year                                                    year3\n",
        "Name: APF0000j2s"
       ]
      }
     ],
     "prompt_number": 43
    },
    {
     "cell_type": "code",
     "collapsed": false,
     "input": [
      "merged.ix['APF000003n']['comment']"
     ],
     "language": "python",
     "metadata": {},
     "outputs": [
      {
       "output_type": "pyout",
       "prompt_number": 44,
       "text": [
        "u'32792 OMEGA observes here transformation of CO2 from snow to slab ice Seasonal Processes'"
       ]
      }
     ],
     "prompt_number": 44
    },
    {
     "cell_type": "code",
     "collapsed": false,
     "input": [],
     "language": "python",
     "metadata": {},
     "outputs": [],
     "prompt_number": 44
    },
    {
     "cell_type": "code",
     "collapsed": false,
     "input": [
      "merged.ix['APF0000471']"
     ],
     "language": "python",
     "metadata": {},
     "outputs": [
      {
       "output_type": "pyout",
       "prompt_number": 46,
       "text": [
        "Ls                                                    196.847\n",
        "comment         31708 Starburst araneiform Seasonal Processes\n",
        "home_url                  http://uahirise.org/ESP_011697_0980\n",
        "lat                                                   -81.801\n",
        "lon                                                     76.14\n",
        "obsid                                         ESP_011697_0980\n",
        "time                                      2009-01-23 22:10:53\n",
        "unnamed1                                                  NaN\n",
        "unnamed2                                                  NaN\n",
        "url         http://hirise-pds.lpl.arizona.edu/download/PDS...\n",
        "year                                                    year2\n",
        "Name: APF0000471"
       ]
      }
     ],
     "prompt_number": 46
    },
    {
     "cell_type": "code",
     "collapsed": false,
     "input": [
      "merged.ix['APF0000fsm']"
     ],
     "language": "python",
     "metadata": {},
     "outputs": [
      {
       "output_type": "pyout",
       "prompt_number": 47,
       "text": [
        "Ls                                                    184.309\n",
        "comment            31498 Dry ice gone wild Seasonal Processes\n",
        "home_url                  http://uahirise.org/ESP_011420_0930\n",
        "lat                                                   -87.008\n",
        "lon                                                   127.273\n",
        "obsid                                         ESP_011420_0930\n",
        "time                                      2009-01-02 08:07:35\n",
        "unnamed1                                                  NaN\n",
        "unnamed2                                                  NaN\n",
        "url         http://hirise-pds.lpl.arizona.edu/download/PDS...\n",
        "year                                                    year2\n",
        "Name: APF0000fsm"
       ]
      }
     ],
     "prompt_number": 47
    },
    {
     "cell_type": "code",
     "collapsed": false,
     "input": [
      "merged.ix['APF00003w8']"
     ],
     "language": "python",
     "metadata": {},
     "outputs": [
      {
       "output_type": "pyout",
       "prompt_number": 48,
       "text": [
        "Ls                                                    180.814\n",
        "comment         31702 Starburst araneiform Seasonal Processes\n",
        "home_url                  http://uahirise.org/ESP_011341_0980\n",
        "lat                                                   -81.801\n",
        "lon                                                     76.14\n",
        "obsid                                         ESP_011341_0980\n",
        "time                                      2008-12-27 04:25:07\n",
        "unnamed1                                                  NaN\n",
        "unnamed2                                                  NaN\n",
        "url         http://hirise-pds.lpl.arizona.edu/download/PDS...\n",
        "year                                                    year2\n",
        "Name: APF00003w8"
       ]
      }
     ],
     "prompt_number": 48
    },
    {
     "cell_type": "code",
     "collapsed": false,
     "input": [
      "merged.ix['APF0000886']"
     ],
     "language": "python",
     "metadata": {},
     "outputs": [
      {
       "output_type": "pyout",
       "prompt_number": 49,
       "text": [
        "Ls                                                    203.621\n",
        "comment                 32160 Giza- Year 2 Seasonal Processes\n",
        "home_url                  http://uahirise.org/ESP_011843_0950\n",
        "lat                                                   -84.801\n",
        "lon                                                    65.699\n",
        "obsid                                         ESP_011843_0950\n",
        "time                                      2009-02-04 07:11:41\n",
        "unnamed1                                                  NaN\n",
        "unnamed2                                                  NaN\n",
        "url         http://hirise-pds.lpl.arizona.edu/download/PDS...\n",
        "year                                                    year2\n",
        "Name: APF0000886"
       ]
      }
     ],
     "prompt_number": 49
    },
    {
     "cell_type": "code",
     "collapsed": false,
     "input": [
      "merged.ix['APF00009ju']"
     ],
     "language": "python",
     "metadata": {},
     "outputs": [
      {
       "output_type": "pyout",
       "prompt_number": 50,
       "text": [
        "Ls                                                    181.122\n",
        "comment        17492 Spider trough network Seasonal Processes\n",
        "home_url                  http://uahirise.org/ESP_011348_0950\n",
        "lat                                                   -85.029\n",
        "lon                                                    258.99\n",
        "obsid                                         ESP_011348_0950\n",
        "time                                      2008-12-27 17:29:33\n",
        "unnamed1                                                  NaN\n",
        "unnamed2                                                  NaN\n",
        "url         http://hirise-pds.lpl.arizona.edu/download/PDS...\n",
        "year                                                    year2\n",
        "Name: APF00009ju"
       ]
      }
     ],
     "prompt_number": 50
    },
    {
     "cell_type": "code",
     "collapsed": false,
     "input": [
      "pwd"
     ],
     "language": "python",
     "metadata": {},
     "outputs": [
      {
       "output_type": "pyout",
       "prompt_number": 51,
       "text": [
        "u'/Users/maye/Dropbox/DDocuments/marszoo'"
       ]
      }
     ],
     "prompt_number": 51
    },
    {
     "cell_type": "code",
     "collapsed": false,
     "input": [
      "merged.ix['APF0000puh']"
     ],
     "language": "python",
     "metadata": {},
     "outputs": [
      {
       "output_type": "pyout",
       "prompt_number": 52,
       "text": [
        "Ls                                                    189.718\n",
        "comment     54170 Observation of early spring evolution in...\n",
        "home_url                  http://uahirise.org/ESP_020357_0950\n",
        "lat                                                   -85.128\n",
        "lon                                                   180.674\n",
        "obsid                                         ESP_020357_0950\n",
        "time                                      2010-11-29 17:10:00\n",
        "unnamed1                                             advanced\n",
        "unnamed2                                                  NaN\n",
        "url         http://hirise-pds.lpl.arizona.edu/download/PDS...\n",
        "year                                                    year3\n",
        "Name: APF0000puh"
       ]
      }
     ],
     "prompt_number": 52
    },
    {
     "cell_type": "code",
     "collapsed": false,
     "input": [
      "merged.columns"
     ],
     "language": "python",
     "metadata": {},
     "outputs": [
      {
       "output_type": "pyout",
       "prompt_number": 54,
       "text": [
        "Index([Ls, comment, home_url, lat, lon, obsid, time, unnamed1, unnamed2, url, year], dtype=object)"
       ]
      }
     ],
     "prompt_number": 54
    },
    {
     "cell_type": "code",
     "collapsed": false,
     "input": [
      "merged.ix['APF00003d5']"
     ],
     "language": "python",
     "metadata": {},
     "outputs": [
      {
       "output_type": "pyout",
       "prompt_number": 55,
       "text": [
        "Ls                                                    189.057\n",
        "comment     33371 Monitor seasonal changes at a south pola...\n",
        "home_url                  http://uahirise.org/ESP_011526_0980\n",
        "lat                                                   -81.684\n",
        "lon                                                     66.28\n",
        "obsid                                         ESP_011526_0980\n",
        "time                                      2009-01-10 14:23:40\n",
        "unnamed1                                                  NaN\n",
        "unnamed2                                             Advanced\n",
        "url         http://hirise-pds.lpl.arizona.edu/download/PDS...\n",
        "year                                                    year2\n",
        "Name: APF00003d5"
       ]
      }
     ],
     "prompt_number": 55
    },
    {
     "cell_type": "code",
     "collapsed": false,
     "input": [
      "merged[merged.lat.round(2)==-81.68].obsid.unique()"
     ],
     "language": "python",
     "metadata": {},
     "outputs": [
      {
       "output_type": "pyout",
       "prompt_number": 57,
       "text": [
        "array([ESP_011460_0980, ESP_011526_0980, ESP_011737_0980, ESP_012515_0980,\n",
        "       ESP_012594_0980, ESP_022510_0980, ESP_021587_0980, ESP_021574_0980,\n",
        "       ESP_021521_0980, ESP_021508_0980, ESP_020941_0980, ESP_020875_0980,\n",
        "       ESP_020374_0980, ESP_020163_0980], dtype=object)"
       ]
      }
     ],
     "prompt_number": 57
    },
    {
     "cell_type": "code",
     "collapsed": false,
     "input": [
      "79999836.0/80e6"
     ],
     "language": "python",
     "metadata": {},
     "outputs": [
      {
       "output_type": "pyout",
       "prompt_number": 58,
       "text": [
        "0.99999795"
       ]
      }
     ],
     "prompt_number": 58
    },
    {
     "cell_type": "code",
     "collapsed": false,
     "input": [],
     "language": "python",
     "metadata": {},
     "outputs": []
    }
   ],
   "metadata": {}
  }
 ]
}