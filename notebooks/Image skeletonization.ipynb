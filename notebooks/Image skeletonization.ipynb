{
 "metadata": {
  "name": ""
 },
 "nbformat": 3,
 "nbformat_minor": 0,
 "worksheets": [
  {
   "cells": [
    {
     "cell_type": "code",
     "collapsed": false,
     "input": [
      "cd /Users/maye/data/hirise"
     ],
     "language": "python",
     "metadata": {},
     "outputs": [
      {
       "output_type": "stream",
       "stream": "stdout",
       "text": [
        "/Users/maye/data/hirise\n"
       ]
      }
     ],
     "prompt_number": 2
    },
    {
     "cell_type": "code",
     "collapsed": false,
     "input": [
      "ls"
     ],
     "language": "python",
     "metadata": {},
     "outputs": [
      {
       "output_type": "stream",
       "stream": "stdout",
       "text": [
        "2download_Arrakis_y2_RED_lat_79.9_lon_122.8.txt  ESP_020748_0985_COLOR.JP2\r\n",
        "\u001b[1m\u001b[36mESP_011348_0950\u001b[m\u001b[m/                                 ESP_020748_0985_RED.JP2\r\n",
        "ESP_011348_0950_RED.JP2                          ESP_020748_0985_RGB.NOMAP.JP2\r\n",
        "ESP_011348_0950_RGB.NOMAP.JP2                    ESP_020827_0985_COLOR.JP2\r\n",
        "ESP_011348_0950_zoom_rotated.png                 ESP_020914_0930_RGB.NOMAP.JP2\r\n",
        "ESP_011526_0980_RGB.NOMAP.JP2                    ESP_020914_0930_RGB.NOMAP.browse.jpg\r\n",
        "ESP_011843_0950_RGB.NOMAP.JP2                    ESP_020959_0985_COLOR.JP2\r\n",
        "ESP_011900_0985_COLOR.JP2                        ESP_021460_0985_COLOR.JP2\r\n",
        "ESP_012254_1065_COLOR.JP2                        ESP_021521_0980_COLOR.JP2\r\n",
        "ESP_012254_1065_RGB.NOMAP.JP2                    ESP_021526_0985_COLOR.JP2\r\n",
        "ESP_012467_0985_COLOR.JP2                        ESP_021574_0980_COLOR.JP2\r\n",
        "ESP_012467_0985_RED.JP2                          ESP_021587_0980_COLOR.JP2\r\n",
        "ESP_012594_0980_RGB.NOMAP.JP2                    ESP_021605_0985_COLOR.JP2\r\n",
        "ESP_012648_0930_RGB.NOMAP.JP2                    ESP_021671_0985_COLOR.JP2\r\n",
        "ESP_012693_0950_RGB.NOMAP.JP2                    ESP_021684_0985_COLOR.JP2\r\n",
        "ESP_012693_0950_RGB.NOMAP.tif                    ESP_021829_0985_COLOR.JP2\r\n",
        "ESP_013049_0950_RGB.NOMAP.JP2                    ESP_029066_1865_COLOR.JP2\r\n",
        "ESP_013260_0950_RGB.NOMAP.JP2                    ESP_030609_1550_COLOR.QLOOK.JP2\r\n",
        "ESP_020049_0985_COLOR.JP2                        ESP_032009_0985_RED.JP2\r\n",
        "ESP_020115_0985_COLOR.JP2                        ESP_032009_0985_RED.LBL\r\n",
        "ESP_020128_0985_COLOR.JP2                        PSP_003087_0930_RGB.NOMAP.JP2\r\n",
        "ESP_020194_0985_COLOR.JP2                        PSP_003175_1080_COLOR.QLOOK.JP2\r\n",
        "ESP_020339_0985_COLOR.JP2                        PSP_005993_0985_RED.JP2\r\n",
        "ESP_020357_0950_RED.NOMAP.JP2                    PSP_005993_0985_RED.LBL\r\n",
        "ESP_020357_0950_RGB.NOMAP.JP2                    \u001b[1m\u001b[36mfans\u001b[m\u001b[m/\r\n",
        "ESP_020386_0925_RGB.NOMAP.JP2                    \u001b[1m\u001b[36minca\u001b[m\u001b[m/\r\n",
        "ESP_020427_0930_RGB.NOMAP.JP2                    \u001b[1m\u001b[36minca_city_dem\u001b[m\u001b[m/\r\n",
        "ESP_020597_0925_RGB.NOMAP.JP2                    print.prt\r\n"
       ]
      }
     ],
     "prompt_number": 4
    },
    {
     "cell_type": "code",
     "collapsed": false,
     "input": [
      "from osgeo import gdal"
     ],
     "language": "python",
     "metadata": {},
     "outputs": [],
     "prompt_number": 5
    },
    {
     "cell_type": "code",
     "collapsed": false,
     "input": [
      "import skimage"
     ],
     "language": "python",
     "metadata": {},
     "outputs": [],
     "prompt_number": 9
    },
    {
     "cell_type": "code",
     "collapsed": false,
     "input": [
      "from skimage import io"
     ],
     "language": "python",
     "metadata": {},
     "outputs": [],
     "prompt_number": 10
    },
    {
     "cell_type": "code",
     "collapsed": false,
     "input": [
      "data = io.imread('./ESP_029066_1865_COLOR.JP2', plugin='freeimage')"
     ],
     "language": "python",
     "metadata": {},
     "outputs": [],
     "prompt_number": 16
    },
    {
     "cell_type": "code",
     "collapsed": false,
     "input": [
      "data.shape"
     ],
     "language": "python",
     "metadata": {},
     "outputs": [
      {
       "metadata": {},
       "output_type": "pyout",
       "prompt_number": 17,
       "text": [
        "(22611, 7151, 3)"
       ]
      }
     ],
     "prompt_number": 17
    },
    {
     "cell_type": "code",
     "collapsed": false,
     "input": [
      "ch0 = data[:,:,0]"
     ],
     "language": "python",
     "metadata": {},
     "outputs": [],
     "prompt_number": 18
    },
    {
     "cell_type": "code",
     "collapsed": false,
     "input": [
      "start = 5000\n",
      "end = start+300\n",
      "imshow(ch0[start:end, 3000:3300])"
     ],
     "language": "python",
     "metadata": {},
     "outputs": [
      {
       "metadata": {},
       "output_type": "pyout",
       "prompt_number": 33,
       "text": [
        "<matplotlib.image.AxesImage at 0x11d1a5690>"
       ]
      }
     ],
     "prompt_number": 33
    },
    {
     "cell_type": "code",
     "collapsed": false,
     "input": [
      "gray()"
     ],
     "language": "python",
     "metadata": {},
     "outputs": [],
     "prompt_number": 21
    },
    {
     "cell_type": "code",
     "collapsed": false,
     "input": [
      "roi = ch0[start:end, 3000:3300]"
     ],
     "language": "python",
     "metadata": {},
     "outputs": [],
     "prompt_number": 35
    },
    {
     "cell_type": "code",
     "collapsed": false,
     "input": [
      "hist(roi.flatten(), bins=50)"
     ],
     "language": "python",
     "metadata": {},
     "outputs": [
      {
       "metadata": {},
       "output_type": "pyout",
       "prompt_number": 36,
       "text": [
        "(array([  4.00000000e+00,   2.00000000e+00,   1.00000000e+01,\n",
        "         7.00000000e+00,   1.60000000e+01,   1.80000000e+01,\n",
        "         1.40000000e+01,   4.60000000e+01,   5.10000000e+01,\n",
        "         7.70000000e+01,   2.17000000e+02,   7.75000000e+02,\n",
        "         1.11700000e+03,   1.56200000e+03,   2.04200000e+03,\n",
        "         3.32800000e+03,   4.22400000e+03,   4.80600000e+03,\n",
        "         5.01000000e+03,   5.82700000e+03,   5.64900000e+03,\n",
        "         5.89800000e+03,   5.48100000e+03,   6.42600000e+03,\n",
        "         5.05300000e+03,   4.50600000e+03,   4.70000000e+03,\n",
        "         3.42300000e+03,   3.25500000e+03,   2.56700000e+03,\n",
        "         2.72800000e+03,   1.96400000e+03,   1.67400000e+03,\n",
        "         1.40600000e+03,   1.45500000e+03,   1.17300000e+03,\n",
        "         9.13000000e+02,   7.42000000e+02,   6.02000000e+02,\n",
        "         3.97000000e+02,   2.64000000e+02,   1.96000000e+02,\n",
        "         1.69000000e+02,   9.20000000e+01,   5.40000000e+01,\n",
        "         3.00000000e+01,   1.30000000e+01,   9.00000000e+00,\n",
        "         4.00000000e+00,   4.00000000e+00]),\n",
        " array([ 419.  ,  426.26,  433.52,  440.78,  448.04,  455.3 ,  462.56,\n",
        "        469.82,  477.08,  484.34,  491.6 ,  498.86,  506.12,  513.38,\n",
        "        520.64,  527.9 ,  535.16,  542.42,  549.68,  556.94,  564.2 ,\n",
        "        571.46,  578.72,  585.98,  593.24,  600.5 ,  607.76,  615.02,\n",
        "        622.28,  629.54,  636.8 ,  644.06,  651.32,  658.58,  665.84,\n",
        "        673.1 ,  680.36,  687.62,  694.88,  702.14,  709.4 ,  716.66,\n",
        "        723.92,  731.18,  738.44,  745.7 ,  752.96,  760.22,  767.48,\n",
        "        774.74,  782.  ]),\n",
        " <a list of 50 Patch objects>)"
       ]
      }
     ],
     "prompt_number": 36
    },
    {
     "cell_type": "code",
     "collapsed": false,
     "input": [
      "binimg = roi> 700"
     ],
     "language": "python",
     "metadata": {},
     "outputs": [],
     "prompt_number": 58
    },
    {
     "cell_type": "code",
     "collapsed": false,
     "input": [
      "from scipy import ndimage"
     ],
     "language": "python",
     "metadata": {},
     "outputs": [],
     "prompt_number": 44
    },
    {
     "cell_type": "code",
     "collapsed": false,
     "input": [
      "from skimage import morphology"
     ],
     "language": "python",
     "metadata": {},
     "outputs": [],
     "prompt_number": 46
    },
    {
     "cell_type": "code",
     "collapsed": false,
     "input": [
      "selem = morphology.selem.disk(1)"
     ],
     "language": "python",
     "metadata": {},
     "outputs": [],
     "prompt_number": 64
    },
    {
     "cell_type": "code",
     "collapsed": false,
     "input": [
      "selem = morphology.selem"
     ],
     "language": "python",
     "metadata": {},
     "outputs": []
    },
    {
     "cell_type": "code",
     "collapsed": false,
     "input": [
      "morphed = morphology.binary_erosion(binimg, selem)"
     ],
     "language": "python",
     "metadata": {},
     "outputs": [],
     "prompt_number": 65
    },
    {
     "cell_type": "code",
     "collapsed": false,
     "input": [
      "imshow morphed"
     ],
     "language": "python",
     "metadata": {},
     "outputs": [
      {
       "metadata": {},
       "output_type": "pyout",
       "prompt_number": 66,
       "text": [
        "<matplotlib.image.AxesImage at 0x1281daf50>"
       ]
      }
     ],
     "prompt_number": 66
    },
    {
     "cell_type": "code",
     "collapsed": false,
     "input": [
      "skel, distance = morphology.medial_axis(morphed, return_distance=True)"
     ],
     "language": "python",
     "metadata": {},
     "outputs": [],
     "prompt_number": 67
    },
    {
     "cell_type": "code",
     "collapsed": false,
     "input": [
      "dist_on_skel = distance * skel"
     ],
     "language": "python",
     "metadata": {},
     "outputs": [],
     "prompt_number": 68
    },
    {
     "cell_type": "code",
     "collapsed": false,
     "input": [],
     "language": "python",
     "metadata": {},
     "outputs": [
      {
       "metadata": {},
       "output_type": "pyout",
       "prompt_number": 86,
       "text": [
        "<matplotlib.image.AxesImage at 0x12a30eb50>"
       ]
      }
     ],
     "prompt_number": 86
    },
    {
     "cell_type": "code",
     "collapsed": false,
     "input": [
      "contour(roi, [0.5], colors='w')"
     ],
     "language": "python",
     "metadata": {},
     "outputs": [
      {
       "metadata": {},
       "output_type": "pyout",
       "prompt_number": 71,
       "text": [
        "<matplotlib.contour.QuadContourSet instance at 0x129183170>"
       ]
      }
     ],
     "prompt_number": 71
    },
    {
     "cell_type": "code",
     "collapsed": false,
     "input": [
      "draw()"
     ],
     "language": "python",
     "metadata": {},
     "outputs": [],
     "prompt_number": 72
    },
    {
     "cell_type": "code",
     "collapsed": false,
     "input": [
      "roi.shape"
     ],
     "language": "python",
     "metadata": {},
     "outputs": [
      {
       "metadata": {},
       "output_type": "pyout",
       "prompt_number": 93,
       "text": [
        "(300, 300)"
       ]
      }
     ],
     "prompt_number": 93
    },
    {
     "cell_type": "code",
     "collapsed": false,
     "input": [
      "start = 80\n",
      "end = 270\n",
      "fig, axes = subplots(ncols=2)\n",
      "axes.flatten()[0].imshow(roi[start:end, start:end], cmap=cm.gray, interpolation='nearest')\n",
      "axes.flatten()[1].imshow(dist_on_skel[start:end, start:end], cmap=cm.spectral, interpolation='nearest')"
     ],
     "language": "python",
     "metadata": {},
     "outputs": [
      {
       "metadata": {},
       "output_type": "pyout",
       "prompt_number": 103,
       "text": [
        "<matplotlib.image.AxesImage at 0x1246b6790>"
       ]
      }
     ],
     "prompt_number": 103
    },
    {
     "cell_type": "code",
     "collapsed": false,
     "input": [],
     "language": "python",
     "metadata": {},
     "outputs": []
    }
   ],
   "metadata": {}
  }
 ]
}