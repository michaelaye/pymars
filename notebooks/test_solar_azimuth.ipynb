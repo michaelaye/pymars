{
 "metadata": {
  "name": "test_solar_azimuth"
 },
 "nbformat": 3,
 "nbformat_minor": 0,
 "worksheets": [
  {
   "cells": [
    {
     "cell_type": "code",
     "collapsed": false,
     "input": [
      "import mars_spice as ms\n",
      "import mars\n",
      "import pdstools"
     ],
     "language": "python",
     "metadata": {},
     "outputs": [],
     "prompt_number": 2
    },
    {
     "cell_type": "code",
     "collapsed": false,
     "input": [
      "dem = mars.ImgData('/Users/maye/data/hirise/inca_city_dem/latest_download/ESP_022607_0985_RED_A_01_ORTHO.JP2')"
     ],
     "language": "python",
     "metadata": {},
     "outputs": [],
     "prompt_number": 3
    },
    {
     "cell_type": "code",
     "collapsed": false,
     "input": [
      "labels = pdstools.get_labels('/Users/maye/data/hirise/inca/ESP_022607_0985_RED.LBL')"
     ],
     "language": "python",
     "metadata": {},
     "outputs": [],
     "prompt_number": 4
    },
    {
     "cell_type": "code",
     "collapsed": false,
     "input": [
      "mspice = ms.MarsSpicer('2010-10-07')"
     ],
     "language": "python",
     "metadata": {},
     "outputs": [],
     "prompt_number": 24
    },
    {
     "cell_type": "code",
     "collapsed": false,
     "input": [
      "def get_azimuth(mspice, p1):\n",
      "    p2lon, p2lat = mspice.compute_solar_azimuth(pixel_res=1)\n",
      "    p2 = mars.Point(lat=p2lat,lon=p2lon)\n",
      "    p2.lonlat_to_pixel(p1.geotrans,p1.proj)\n",
      "    return p1.calculate_azimuth(p2)"
     ],
     "language": "python",
     "metadata": {},
     "outputs": [],
     "prompt_number": 77
    },
    {
     "cell_type": "code",
     "collapsed": false,
     "input": [
      "mspice.set_spoint_by(lon=295.805, lat=-81.38)\n",
      "print dem.center.lon, dem.center.lat\n",
      "print mspice.coords.dlon, mspice.coords.dlat"
     ],
     "language": "python",
     "metadata": {},
     "outputs": [
      {
       "output_type": "stream",
       "stream": "stdout",
       "text": [
        "295.778131448 -81.3866990885\n",
        "295.805 -81.38\n"
       ]
      }
     ],
     "prompt_number": 78
    },
    {
     "cell_type": "code",
     "collapsed": false,
     "input": [
      "p1 = mars.Point(lon=295.805,lat=-81.38)\n",
      "p1.geotrans = dem.center.geotrans\n",
      "p1.proj = dem.center.proj"
     ],
     "language": "python",
     "metadata": {},
     "outputs": [],
     "prompt_number": 79
    },
    {
     "cell_type": "code",
     "collapsed": false,
     "input": [
      "mspice.set_spoint_by(lon=dem.center.lon,lat=dem.center.lat)\n",
      "print dem.center.lon, dem.center.lat\n",
      "print mspice.coords.dlon, mspice.coords.dlat"
     ],
     "language": "python",
     "metadata": {},
     "outputs": [
      {
       "output_type": "stream",
       "stream": "stdout",
       "text": [
        "295.778131448 -81.3866990885\n",
        "295.778131448 -81.3866990885\n"
       ]
      }
     ],
     "prompt_number": 67
    },
    {
     "cell_type": "code",
     "collapsed": false,
     "input": [
      "azimuths = []\n",
      "l_s = []\n",
      "mspice.utc='2010-10-07'\n",
      "for _ in xrange(240):\n",
      "    mspice.advance_time_by(600)\n",
      "    if mspice.illum_angles.dsolar > 90:\n",
      "        continue\n",
      "    azimuths.append(get_azimuth(mspice, p1))\n",
      "    l_s.append(mspice.l_s)"
     ],
     "language": "python",
     "metadata": {},
     "outputs": [
      {
       "ename": "AttributeError",
       "evalue": "'Point' object has no attribute 'geotransform'",
       "output_type": "pyerr",
       "traceback": [
        "---------------------------------------------------------------------------\nAttributeError                            Traceback (most recent call last)",
        "<ipython-input-80-5fa6580e9ce9> in <module>()\n      6     if mspice.illum_angles.dsolar > 90:\n      7         continue\n----> 8     azimuths.append(get_azimuth(mspice, p1))\n      9     l_s.append(mspice.l_s)\n",
        "<ipython-input-77-7e0c30a185c2> in get_azimuth(mspice, p1)\n      2     p2lon, p2lat = mspice.compute_solar_azimuth(pixel_res=1)\n      3     p2 = mars.Point(lat=p2lat,lon=p2lon)\n----> 4     p2.lonlat_to_pixel(p1.geotransform,p1.proj)\n      5     return p1.calculate_azimuth(p2)\n",
        "AttributeError: 'Point' object has no attribute 'geotransform'"
       ]
      }
     ],
     "prompt_number": 80
    },
    {
     "cell_type": "code",
     "collapsed": false,
     "input": [
      "plot(l_s, azimuths,'.')"
     ],
     "language": "python",
     "metadata": {},
     "outputs": [
      {
       "output_type": "pyout",
       "prompt_number": 69,
       "text": [
        "[<matplotlib.lines.Line2D at 0x111ae1290>]"
       ]
      }
     ],
     "prompt_number": 69
    },
    {
     "cell_type": "code",
     "collapsed": false,
     "input": [
      "azimuths"
     ],
     "language": "python",
     "metadata": {},
     "outputs": [
      {
       "output_type": "pyout",
       "prompt_number": 70,
       "text": [
        "[217.89951404166985,\n",
        " 215.49230914455362,\n",
        " 213.08468928080867,\n",
        " 210.67674809101635,\n",
        " 208.26858327179548,\n",
        " 205.8602947522137,\n",
        " 203.4519837702799,\n",
        " 201.04375176951257,\n",
        " 198.6356992757079,\n",
        " 196.2279242279711,\n",
        " 193.8205210099906,\n",
        " 191.41357952526926]"
       ]
      }
     ],
     "prompt_number": 70
    },
    {
     "cell_type": "code",
     "collapsed": false,
     "input": [],
     "language": "python",
     "metadata": {},
     "outputs": []
    }
   ],
   "metadata": {}
  }
 ]
}