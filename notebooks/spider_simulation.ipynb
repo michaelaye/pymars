{
 "metadata": {
  "name": "spider_simulation"
 },
 "nbformat": 3,
 "nbformat_minor": 0,
 "worksheets": [
  {
   "cells": [
    {
     "cell_type": "code",
     "collapsed": false,
     "input": [
      "from mars import ImgData\n",
      "import os\n",
      "from spider_simulation import correct_azimuth, get_xyz\n",
      "import pdstools as pds"
     ],
     "language": "python",
     "metadata": {},
     "outputs": [],
     "prompt_number": 10
    },
    {
     "cell_type": "code",
     "collapsed": false,
     "input": [
      "folder = os.environ['HOME']+'/data/hirise/inca'\n",
      "dem = ImgData(os.path.join(folder, 'big_spider_dem.cub'))\n",
      "slopes = ImgData(os.path.join(folder,'big_spider_slopes.tif'))\n",
      "aspects = ImgData(os.path.join(folder,'big_spider_aspects.tif'))\n",
      "dem.read_all()\n",
      "slopes.read_all()\n",
      "aspects.read_all()"
     ],
     "language": "python",
     "metadata": {},
     "outputs": [
      {
       "output_type": "pyout",
       "prompt_number": 11,
       "text": [
        "masked_array(data =\n",
        " [[-- -- -- ..., -- -- --]\n",
        " [-- 91.6233291626 99.0347900391 ..., 184.537261963 186.022689819 --]\n",
        " [-- 79.3166503906 77.24584198 ..., 158.752075195 161.828598022 --]\n",
        " ..., \n",
        " [-- 242.170562744 283.39251709 ..., 198.406494141 192.033416748 --]\n",
        " [-- 245.950622559 244.983108521 ..., 216.384353638 225.891372681 --]\n",
        " [-- -- -- ..., -- -- --]],\n",
        "             mask =\n",
        " [[ True  True  True ...,  True  True  True]\n",
        " [ True False False ..., False False  True]\n",
        " [ True False False ..., False False  True]\n",
        " ..., \n",
        " [ True False False ..., False False  True]\n",
        " [ True False False ..., False False  True]\n",
        " [ True  True  True ...,  True  True  True]],\n",
        "       fill_value = -9999.0)\n"
       ]
      }
     ],
     "prompt_number": 11
    },
    {
     "cell_type": "code",
     "collapsed": false,
     "input": [
      "labels = pds.get_labels('/Users/maye/data/hirise/inca/ESP_022607_0985_RED.LBL')"
     ],
     "language": "python",
     "metadata": {},
     "outputs": [],
     "prompt_number": 12
    },
    {
     "cell_type": "code",
     "collapsed": false,
     "input": [
      "label_inc = pds.get_incidence(labels)"
     ],
     "language": "python",
     "metadata": {},
     "outputs": [],
     "prompt_number": 13
    },
    {
     "cell_type": "code",
     "collapsed": false,
     "input": [
      "label_sol_azi = pds.get_sub_sol_azi(labels)"
     ],
     "language": "python",
     "metadata": {},
     "outputs": [],
     "prompt_number": 14
    },
    {
     "cell_type": "code",
     "collapsed": false,
     "input": [
      "sun_vec = get_xyz(label_inc,label_sol_azi)\n",
      "sun_vec"
     ],
     "language": "python",
     "metadata": {},
     "outputs": [
      {
       "output_type": "pyout",
       "prompt_number": 15,
       "text": [
        "(-0.79425783146751194, 0.39464961254735187, 0.46195906795813685)"
       ]
      }
     ],
     "prompt_number": 15
    },
    {
     "cell_type": "code",
     "collapsed": false,
     "input": [
      "normal_vec = get_xyz(slopes.data,aspects.data)"
     ],
     "language": "python",
     "metadata": {},
     "outputs": [],
     "prompt_number": 16
    },
    {
     "cell_type": "code",
     "collapsed": false,
     "input": [
      "from spice import vsep"
     ],
     "language": "python",
     "metadata": {},
     "outputs": [],
     "prompt_number": 17
    },
    {
     "cell_type": "markdown",
     "metadata": {},
     "source": [
      "#### we realized that the spherical->cartesian conversion of course goes with angles positive counter-clockwise. Checking if it makes any difference, but most likely not, because at the end we measure an angle between 2 vectors. if we place this vector twice on the wrong hemisphere, the difference should be the same."
     ]
    },
    {
     "cell_type": "code",
     "collapsed": false,
     "input": [
      "dem.data[1,1]"
     ],
     "language": "python",
     "metadata": {},
     "outputs": [
      {
       "output_type": "pyout",
       "prompt_number": 18,
       "text": [
        "1851.3864"
       ]
      }
     ],
     "prompt_number": 18
    },
    {
     "cell_type": "code",
     "collapsed": false,
     "input": [
      "slopes.data[1,1]"
     ],
     "language": "python",
     "metadata": {},
     "outputs": [
      {
       "output_type": "pyout",
       "prompt_number": 19,
       "text": [
        "6.0265155"
       ]
      }
     ],
     "prompt_number": 19
    },
    {
     "cell_type": "code",
     "collapsed": false,
     "input": [
      "aspects.data[1,1]"
     ],
     "language": "python",
     "metadata": {},
     "outputs": [
      {
       "output_type": "pyout",
       "prompt_number": 20,
       "text": [
        "91.623329"
       ]
      }
     ],
     "prompt_number": 20
    },
    {
     "cell_type": "code",
     "collapsed": false,
     "input": [
      "sun_vec = get_xyz(label_inc, label_sol_azi)\n",
      "sun_vec"
     ],
     "language": "python",
     "metadata": {},
     "outputs": [
      {
       "output_type": "pyout",
       "prompt_number": 21,
       "text": [
        "(-0.79425783146751194, 0.39464961254735187, 0.46195906795813685)"
       ]
      }
     ],
     "prompt_number": 21
    },
    {
     "cell_type": "code",
     "collapsed": false,
     "input": [
      "normal_vec = get_xyz(slopes.data[1,1], aspects.data[1,1])\n",
      "normal_vec"
     ],
     "language": "python",
     "metadata": {},
     "outputs": [
      {
       "output_type": "pyout",
       "prompt_number": 22,
       "text": [
        "(-0.0029741838, 0.10494657, 0.99447346)"
       ]
      }
     ],
     "prompt_number": 22
    },
    {
     "cell_type": "code",
     "collapsed": false,
     "input": [
      "degrees(vsep(sun_vec, normal_vec))"
     ],
     "language": "python",
     "metadata": {},
     "outputs": [
      {
       "output_type": "pyout",
       "prompt_number": 23,
       "text": [
        "59.789030819500809"
       ]
      }
     ],
     "prompt_number": 23
    },
    {
     "cell_type": "markdown",
     "metadata": {},
     "source": [
      "#### now inverting azimuth, because it's counted clock-wise in HiRISE images"
     ]
    },
    {
     "cell_type": "code",
     "collapsed": false,
     "input": [
      "sun_vec = get_xyz(label_inc, -label_sol_azi)\n",
      "sun_vec"
     ],
     "language": "python",
     "metadata": {},
     "outputs": [
      {
       "output_type": "pyout",
       "prompt_number": 24,
       "text": [
        "(-0.79425783146751194, -0.39464961254735187, 0.46195906795813685)"
       ]
      }
     ],
     "prompt_number": 24
    },
    {
     "cell_type": "code",
     "collapsed": false,
     "input": [
      "normal_vec = get_xyz(slopes.data[1,1], -aspects.data[1,1])\n",
      "normal_vec"
     ],
     "language": "python",
     "metadata": {},
     "outputs": [
      {
       "output_type": "pyout",
       "prompt_number": 25,
       "text": [
        "(-0.0029741838, -0.10494657, 0.99447346)"
       ]
      }
     ],
     "prompt_number": 25
    },
    {
     "cell_type": "code",
     "collapsed": false,
     "input": [
      "degrees(vsep(normal_vec, sun_vec))"
     ],
     "language": "python",
     "metadata": {},
     "outputs": [
      {
       "output_type": "pyout",
       "prompt_number": 26,
       "text": [
        "59.789030819500809"
       ]
      }
     ],
     "prompt_number": 26
    },
    {
     "cell_type": "code",
     "collapsed": false,
     "input": [
      "vsep(normal_vec,sun_vec)"
     ],
     "language": "python",
     "metadata": {},
     "outputs": [
      {
       "output_type": "pyout",
       "prompt_number": 27,
       "text": [
        "1.0435154443766526"
       ]
      }
     ],
     "prompt_number": 27
    },
    {
     "cell_type": "markdown",
     "metadata": {},
     "source": [
      "now investigating the vectorized version of algorithm"
     ]
    },
    {
     "cell_type": "code",
     "collapsed": false,
     "input": [
      "sun_vec"
     ],
     "language": "python",
     "metadata": {},
     "outputs": [
      {
       "output_type": "pyout",
       "prompt_number": 28,
       "text": [
        "(-0.79425783146751194, -0.39464961254735187, 0.46195906795813685)"
       ]
      }
     ],
     "prompt_number": 28
    },
    {
     "cell_type": "code",
     "collapsed": false,
     "input": [
      "normal_vec = get_xyz(slopes.data, -aspects.data)"
     ],
     "language": "python",
     "metadata": {},
     "outputs": [],
     "prompt_number": 29
    },
    {
     "cell_type": "code",
     "collapsed": false,
     "input": [
      "normal_x,normal_y,normal_z = normal_vec"
     ],
     "language": "python",
     "metadata": {},
     "outputs": [],
     "prompt_number": 30
    },
    {
     "cell_type": "code",
     "collapsed": false,
     "input": [
      "normal_vectors = dstack([normal_x,normal_y,normal_z])"
     ],
     "language": "python",
     "metadata": {},
     "outputs": [],
     "prompt_number": 31
    },
    {
     "cell_type": "code",
     "collapsed": false,
     "input": [
      "normal_vectors[1,1]"
     ],
     "language": "python",
     "metadata": {},
     "outputs": [
      {
       "output_type": "pyout",
       "prompt_number": 32,
       "text": [
        "array([-0.00297418, -0.10494657,  0.99447346], dtype=float32)"
       ]
      }
     ],
     "prompt_number": 32
    },
    {
     "cell_type": "code",
     "collapsed": false,
     "input": [
      "vdot(normal_vectors[1,1],sun_vec)"
     ],
     "language": "python",
     "metadata": {},
     "outputs": [
      {
       "output_type": "pyout",
       "prompt_number": 33,
       "text": [
        "0.50318542284670031"
       ]
      }
     ],
     "prompt_number": 33
    },
    {
     "cell_type": "code",
     "collapsed": false,
     "input": [
      "degrees(arccos(np.dot(normal_vectors[1,1],sun_vec)))"
     ],
     "language": "python",
     "metadata": {},
     "outputs": [
      {
       "output_type": "pyout",
       "prompt_number": 34,
       "text": [
        "59.789029395319993"
       ]
      }
     ],
     "prompt_number": 34
    },
    {
     "cell_type": "code",
     "collapsed": false,
     "input": [
      "normal_vectors[1,1]*sun_vec"
     ],
     "language": "python",
     "metadata": {},
     "outputs": [
      {
       "output_type": "pyout",
       "prompt_number": 35,
       "text": [
        "array([ 0.00236227,  0.04141712,  0.45940603])"
       ]
      }
     ],
     "prompt_number": 35
    },
    {
     "cell_type": "code",
     "collapsed": false,
     "input": [
      "sun_vec = array(sun_vec)\n",
      "sun_vec.shape"
     ],
     "language": "python",
     "metadata": {},
     "outputs": [
      {
       "output_type": "pyout",
       "prompt_number": 36,
       "text": [
        "(3,)"
       ]
      }
     ],
     "prompt_number": 36
    },
    {
     "cell_type": "code",
     "collapsed": false,
     "input": [
      "normal_small = normal_vectors[:2,:2,:]"
     ],
     "language": "python",
     "metadata": {},
     "outputs": [],
     "prompt_number": 37
    },
    {
     "cell_type": "code",
     "collapsed": false,
     "input": [
      "normal_small\n",
      "normal_small.shape"
     ],
     "language": "python",
     "metadata": {},
     "outputs": [
      {
       "output_type": "pyout",
       "prompt_number": 38,
       "text": [
        "(2, 2, 3)"
       ]
      }
     ],
     "prompt_number": 38
    },
    {
     "cell_type": "code",
     "collapsed": false,
     "input": [
      "normal_small"
     ],
     "language": "python",
     "metadata": {},
     "outputs": [
      {
       "output_type": "pyout",
       "prompt_number": 39,
       "text": [
        "array([[[ 0.15450899, -0.97552818,  0.15643497],\n",
        "        [ 0.15450899, -0.97552818,  0.15643497]],\n",
        "\n",
        "       [[ 0.15450899, -0.97552818,  0.15643497],\n",
        "        [-0.00297418, -0.10494657,  0.99447346]]], dtype=float32)"
       ]
      }
     ],
     "prompt_number": 39
    },
    {
     "cell_type": "code",
     "collapsed": false,
     "input": [
      "np.dot(normal_small, sun_vec)"
     ],
     "language": "python",
     "metadata": {},
     "outputs": [
      {
       "output_type": "pyout",
       "prompt_number": 40,
       "text": [
        "array([[ 0.33453839,  0.33453839],\n",
        "       [ 0.33453839,  0.50318542]])"
       ]
      }
     ],
     "prompt_number": 40
    },
    {
     "cell_type": "code",
     "collapsed": false,
     "input": [
      "np.degrees(np.arccos(np.dot(normal_small,sun_vec)))"
     ],
     "language": "python",
     "metadata": {},
     "outputs": [
      {
       "output_type": "pyout",
       "prompt_number": 41,
       "text": [
        "array([[ 70.4555297,  70.4555297],\n",
        "       [ 70.4555297,  59.7890294]])"
       ]
      }
     ],
     "prompt_number": 41
    },
    {
     "cell_type": "code",
     "collapsed": false,
     "input": [
      "normal_11 = get_xyz(slopes.data[1,1], aspects.data[1,1])"
     ],
     "language": "python",
     "metadata": {},
     "outputs": [],
     "prompt_number": 42
    },
    {
     "cell_type": "code",
     "collapsed": false,
     "input": [
      "degrees(vsep(normal_11, sun_vec))"
     ],
     "language": "python",
     "metadata": {},
     "outputs": [
      {
       "output_type": "pyout",
       "prompt_number": 43,
       "text": [
        "65.143240353564025"
       ]
      }
     ],
     "prompt_number": 43
    },
    {
     "cell_type": "code",
     "collapsed": false,
     "input": [
      "get_xyz(62.49, -153.58)"
     ],
     "language": "python",
     "metadata": {},
     "outputs": [
      {
       "output_type": "pyout",
       "prompt_number": 44,
       "text": [
        "(-0.79429613078617411, -0.39463766713522086, 0.46190341879681251)"
       ]
      }
     ],
     "prompt_number": 44
    },
    {
     "cell_type": "code",
     "collapsed": false,
     "input": [
      "data = aspects.data"
     ],
     "language": "python",
     "metadata": {},
     "outputs": [],
     "prompt_number": 45
    },
    {
     "cell_type": "code",
     "collapsed": false,
     "input": [
      "data[data<0] = 0"
     ],
     "language": "python",
     "metadata": {},
     "outputs": [],
     "prompt_number": 46
    },
    {
     "cell_type": "code",
     "collapsed": false,
     "input": [
      "data.max()"
     ],
     "language": "python",
     "metadata": {},
     "outputs": [
      {
       "output_type": "pyout",
       "prompt_number": 47,
       "text": [
        "359.97961"
       ]
      }
     ],
     "prompt_number": 47
    },
    {
     "cell_type": "code",
     "collapsed": false,
     "input": [
      "imshow(data,cmap='hsv')\n",
      "colorbar()"
     ],
     "language": "python",
     "metadata": {},
     "outputs": [
      {
       "output_type": "pyout",
       "prompt_number": 48,
       "text": [
        "<matplotlib.colorbar.Colorbar instance at 0x11c668cf8>"
       ]
      }
     ],
     "prompt_number": 48
    },
    {
     "cell_type": "code",
     "collapsed": false,
     "input": [
      "get_xyz(label_inc, 360-label_sol_azi)"
     ],
     "language": "python",
     "metadata": {},
     "outputs": [
      {
       "output_type": "pyout",
       "prompt_number": 59,
       "text": [
        "(-0.79425783146751183, -0.39464961254735204, 0.46195906795813685)"
       ]
      }
     ],
     "prompt_number": 59
    },
    {
     "cell_type": "code",
     "collapsed": false,
     "input": [
      "def calc_azi(inc,emis,g):\n",
      "    cosa = cos(g) - (cos(inc)*cos(emis))\n",
      "    cosa /= ( sin(inc)*sin(emis) )\n",
      "    print cosa\n",
      "    return degrees(arccos(cosa))"
     ],
     "language": "python",
     "metadata": {},
     "outputs": [],
     "prompt_number": 126
    },
    {
     "cell_type": "code",
     "collapsed": false,
     "input": [
      "emis = degrees(vsep((1,1,1),(0,0,1)))\n",
      "emis"
     ],
     "language": "python",
     "metadata": {},
     "outputs": [
      {
       "output_type": "pyout",
       "prompt_number": 127,
       "text": [
        "54.735610317245353"
       ]
      }
     ],
     "prompt_number": 127
    },
    {
     "cell_type": "code",
     "collapsed": false,
     "input": [
      "g = degrees(vsep((1,1,1),(1,0,1)))\n",
      "g"
     ],
     "language": "python",
     "metadata": {},
     "outputs": [
      {
       "output_type": "pyout",
       "prompt_number": 128,
       "text": [
        "35.264389682754654"
       ]
      }
     ],
     "prompt_number": 128
    },
    {
     "cell_type": "code",
     "collapsed": false,
     "input": [
      "inc = 45\n",
      "print inc,emis,g\n",
      "calc_azi(radians(inc),radians(emis),radians(g))"
     ],
     "language": "python",
     "metadata": {},
     "outputs": [
      {
       "output_type": "stream",
       "stream": "stdout",
       "text": [
        "45 54.7356103172 35.2643896828\n",
        "0.707106781187\n"
       ]
      },
      {
       "output_type": "pyout",
       "prompt_number": 132,
       "text": [
        "45.0"
       ]
      }
     ],
     "prompt_number": 132
    },
    {
     "cell_type": "code",
     "collapsed": false,
     "input": [
      "pds.get_sub_sc_azimuth(labels)"
     ],
     "language": "python",
     "metadata": {},
     "outputs": [
      {
       "output_type": "pyout",
       "prompt_number": 93,
       "text": [
        "127.23702787697037"
       ]
      }
     ],
     "prompt_number": 93
    },
    {
     "cell_type": "code",
     "collapsed": false,
     "input": [
      "pds.get_phase(labels)"
     ],
     "language": "python",
     "metadata": {},
     "outputs": [
      {
       "output_type": "pyout",
       "prompt_number": 94,
       "text": [
        "67.083972"
       ]
      }
     ],
     "prompt_number": 94
    },
    {
     "cell_type": "code",
     "collapsed": false,
     "input": [
      "pds.get_sub_sc_azimuth(labels)"
     ],
     "language": "python",
     "metadata": {},
     "outputs": [
      {
       "output_type": "pyout",
       "prompt_number": 133,
       "text": [
        "127.23702787697037"
       ]
      }
     ],
     "prompt_number": 133
    },
    {
     "cell_type": "code",
     "collapsed": false,
     "input": [
      "pds.get_sub_sol_azi(labels)"
     ],
     "language": "python",
     "metadata": {},
     "outputs": [
      {
       "output_type": "pyout",
       "prompt_number": 134,
       "text": [
        "153.578208"
       ]
      }
     ],
     "prompt_number": 134
    },
    {
     "cell_type": "code",
     "collapsed": false,
     "input": [
      "get_xyz(10,30)"
     ],
     "language": "python",
     "metadata": {},
     "outputs": [
      {
       "output_type": "pyout",
       "prompt_number": 135,
       "text": [
        "(0.1503837331804353, 0.086824088833465152, 0.98480775301220802)"
       ]
      }
     ],
     "prompt_number": 135
    },
    {
     "cell_type": "code",
     "collapsed": false,
     "input": [
      "get_xyz(10,330)"
     ],
     "language": "python",
     "metadata": {},
     "outputs": [
      {
       "output_type": "pyout",
       "prompt_number": 136,
       "text": [
        "(0.15038373318043524, -0.086824088833465249, 0.98480775301220802)"
       ]
      }
     ],
     "prompt_number": 136
    },
    {
     "cell_type": "code",
     "collapsed": false,
     "input": [
      "get_xyz(10,-30)"
     ],
     "language": "python",
     "metadata": {},
     "outputs": [
      {
       "output_type": "pyout",
       "prompt_number": 137,
       "text": [
        "(0.1503837331804353, -0.086824088833465152, 0.98480775301220802)"
       ]
      }
     ],
     "prompt_number": 137
    },
    {
     "cell_type": "code",
     "collapsed": false,
     "input": [
      "e = pds.get_emission(labels)"
     ],
     "language": "python",
     "metadata": {},
     "outputs": [],
     "prompt_number": 138
    },
    {
     "cell_type": "code",
     "collapsed": false,
     "input": [
      "g = pds.get_phase(labels)"
     ],
     "language": "python",
     "metadata": {},
     "outputs": [],
     "prompt_number": 139
    },
    {
     "cell_type": "code",
     "collapsed": false,
     "input": [
      "i = pds.get_incidence(labels)"
     ],
     "language": "python",
     "metadata": {},
     "outputs": [],
     "prompt_number": 140
    },
    {
     "cell_type": "code",
     "collapsed": false,
     "input": [
      "print i,e,g"
     ],
     "language": "python",
     "metadata": {},
     "outputs": [
      {
       "output_type": "stream",
       "stream": "stdout",
       "text": [
        "62.486405 7.362066 67.083972\n"
       ]
      }
     ],
     "prompt_number": 141
    },
    {
     "cell_type": "code",
     "collapsed": false,
     "input": [
      "calc_azi(radians(i),radians(e),radians(g))"
     ],
     "language": "python",
     "metadata": {},
     "outputs": [
      {
       "output_type": "stream",
       "stream": "stdout",
       "text": [
        "-0.605113752696\n"
       ]
      },
      {
       "output_type": "pyout",
       "prompt_number": 280,
       "text": [
        "127.23702787697037"
       ]
      }
     ],
     "prompt_number": 280
    },
    {
     "cell_type": "code",
     "collapsed": false,
     "input": [],
     "language": "python",
     "metadata": {},
     "outputs": []
    }
   ],
   "metadata": {}
  }
 ]
}