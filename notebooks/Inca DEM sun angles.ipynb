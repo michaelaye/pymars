{
 "metadata": {
  "name": ""
 },
 "nbformat": 3,
 "nbformat_minor": 0,
 "worksheets": [
  {
   "cells": [
    {
     "cell_type": "code",
     "collapsed": false,
     "input": [
      "from pymars import mars_spice\n",
      "import pandas as pd\n",
      "from pymars import mars\n",
      "reload(mars_spice)\n",
      "from pymars import pdstools"
     ],
     "language": "python",
     "metadata": {},
     "outputs": [],
     "prompt_number": 1
    },
    {
     "cell_type": "code",
     "collapsed": false,
     "input": [
      "labels = pdstools.PDSLabel('/Users/maye/data/hirise/inca/ESP_022607_0985_RED.LBL')"
     ],
     "language": "python",
     "metadata": {},
     "outputs": [],
     "prompt_number": 2
    },
    {
     "cell_type": "code",
     "collapsed": false,
     "input": [
      "surf = mars_spice.MarsSpicer(labels.time)\n",
      "surf.time"
     ],
     "language": "python",
     "metadata": {},
     "outputs": [
      {
       "metadata": {},
       "output_type": "pyout",
       "prompt_number": 3,
       "text": [
        "datetime.datetime(2011, 5, 24, 0, 58, 6, 402000)"
       ]
      }
     ],
     "prompt_number": 3
    },
    {
     "cell_type": "code",
     "collapsed": false,
     "input": [
      "surf.set_spoint_by(lat = labels.meanlat, lon = labels.meanlon)"
     ],
     "language": "python",
     "metadata": {},
     "outputs": [],
     "prompt_number": 4
    },
    {
     "cell_type": "code",
     "collapsed": false,
     "input": [
      "surf.l_s"
     ],
     "language": "python",
     "metadata": {},
     "outputs": [
      {
       "metadata": {},
       "output_type": "pyout",
       "prompt_number": 5,
       "text": [
        "298.13519618126884"
       ]
      }
     ],
     "prompt_number": 5
    },
    {
     "cell_type": "code",
     "collapsed": false,
     "input": [
      "surf.advance_time_by(-3600*24*250)"
     ],
     "language": "python",
     "metadata": {},
     "outputs": [],
     "prompt_number": 6
    },
    {
     "cell_type": "code",
     "collapsed": false,
     "input": [
      "surf.l_s"
     ],
     "language": "python",
     "metadata": {},
     "outputs": [
      {
       "metadata": {},
       "output_type": "pyout",
       "prompt_number": 7,
       "text": [
        "149.05406182427637"
       ]
      }
     ],
     "prompt_number": 7
    },
    {
     "cell_type": "code",
     "collapsed": false,
     "input": [
      "t0 = surf.time\n",
      "t0"
     ],
     "language": "python",
     "metadata": {},
     "outputs": [
      {
       "metadata": {},
       "output_type": "pyout",
       "prompt_number": 8,
       "text": [
        "datetime.datetime(2010, 9, 16, 0, 58, 6, 402000)"
       ]
      }
     ],
     "prompt_number": 8
    },
    {
     "cell_type": "code",
     "collapsed": false,
     "input": [
      "while surf.illum_angles.dsolar > 90:\n",
      "    if (surf.l_s % 5) < 1e-4:\n",
      "        print surf.l_s\n",
      "    surf.advance_time_by(60)"
     ],
     "language": "python",
     "metadata": {},
     "outputs": [],
     "prompt_number": 83
    },
    {
     "cell_type": "code",
     "collapsed": false,
     "input": [
      "surf.advance_time_by(-12*3600)\n"
     ],
     "language": "python",
     "metadata": {},
     "outputs": [],
     "prompt_number": 86
    },
    {
     "cell_type": "code",
     "collapsed": false,
     "input": [
      "surf.illum_angles.dsolar"
     ],
     "language": "python",
     "metadata": {},
     "outputs": [
      {
       "metadata": {},
       "output_type": "pyout",
       "prompt_number": 84,
       "text": [
        "89.999984357066822"
       ]
      }
     ],
     "prompt_number": 84
    },
    {
     "cell_type": "code",
     "collapsed": false,
     "input": [
      "surf.utc"
     ],
     "language": "python",
     "metadata": {},
     "outputs": [
      {
       "metadata": {},
       "output_type": "pyout",
       "prompt_number": 10,
       "text": [
        "'2010-10-06T16:44:21.402000'"
       ]
      }
     ],
     "prompt_number": 10
    },
    {
     "cell_type": "code",
     "collapsed": false,
     "input": [
      "dem = mars.ImgData('/Users/maye/data/hirise/inca_city_dem/'\n",
      "                   'latest_download/ESP_022699_0985_RED_A_01_ORTHO.JP2')"
     ],
     "language": "python",
     "metadata": {},
     "outputs": [],
     "prompt_number": 11
    },
    {
     "cell_type": "code",
     "collapsed": false,
     "input": [
      "surf.set_spoint_by(lat=dem.center.lat, lon=dem.center.lon)"
     ],
     "language": "python",
     "metadata": {},
     "outputs": [],
     "prompt_number": 12
    },
    {
     "cell_type": "code",
     "collapsed": false,
     "input": [
      "surf.utc = '2010-10-06T06:44:21.402000'\n",
      "times = []\n",
      "dsolar = []\n",
      "azis = []\n",
      "Ls = []\n",
      "loctime = []\n",
      "n=0\n",
      "while n < 5000:\n",
      "    if surf.illum_angles.dsolar < 90:\n",
      "        times.append(surf.time)\n",
      "        dsolar.append(surf.illum_angles.dsolar)\n",
      "        p2lon, p2lat = surf.point_towards_sun(pixel_res=1)\n",
      "        p2 = mars.Point(lat=p2lat, lon=p2lon)\n",
      "        p2.lonlat_to_pixel(dem.center.geotrans, dem.center.proj)\n",
      "        azis.append(dem.center.calculate_azimuth(p2,zero='top'))\n",
      "        Ls.append(surf.l_s)\n",
      "        loctime.append('{0}_{1}'.format(surf.local_soltime[0],\n",
      "                                        str(surf.local_soltime[1]).zfill(2)))\n",
      "        n+=1\n",
      "    surf.advance_time_by(600)"
     ],
     "language": "python",
     "metadata": {},
     "outputs": [],
     "prompt_number": 49
    },
    {
     "cell_type": "code",
     "collapsed": false,
     "input": [
      "df = pd.DataFrame({'times':times,'inc':dsolar,'azimuth':azis, \n",
      "                   'Ls':Ls,'loctime':loctime})\n",
      "df"
     ],
     "language": "python",
     "metadata": {},
     "outputs": [
      {
       "html": [
        "<pre>\n",
        "&lt;class 'pandas.core.frame.DataFrame'&gt;\n",
        "Int64Index: 5000 entries, 0 to 4999\n",
        "Data columns (total 5 columns):\n",
        "Ls         5000  non-null values\n",
        "azimuth    5000  non-null values\n",
        "inc        5000  non-null values\n",
        "loctime    5000  non-null values\n",
        "times      5000  non-null values\n",
        "dtypes: datetime64[ns](1), float64(3), object(1)\n",
        "</pre>"
       ],
       "metadata": {},
       "output_type": "pyout",
       "prompt_number": 50,
       "text": [
        "<class 'pandas.core.frame.DataFrame'>\n",
        "Int64Index: 5000 entries, 0 to 4999\n",
        "Data columns (total 5 columns):\n",
        "Ls         5000  non-null values\n",
        "azimuth    5000  non-null values\n",
        "inc        5000  non-null values\n",
        "loctime    5000  non-null values\n",
        "times      5000  non-null values\n",
        "dtypes: datetime64[ns](1), float64(3), object(1)"
       ]
      }
     ],
     "prompt_number": 50
    },
    {
     "cell_type": "code",
     "collapsed": false,
     "input": [
      "df.set_index('times', drop=True,inplace=True)"
     ],
     "language": "python",
     "metadata": {},
     "outputs": [],
     "prompt_number": 51
    },
    {
     "cell_type": "code",
     "collapsed": false,
     "input": [
      "df.index"
     ],
     "language": "python",
     "metadata": {},
     "outputs": [
      {
       "metadata": {},
       "output_type": "pyout",
       "prompt_number": 52,
       "text": [
        "<class 'pandas.tseries.index.DatetimeIndex'>\n",
        "[2010-10-06 16:44:21.402000, ..., 2010-12-16 19:14:21.402000]\n",
        "Length: 5000, Freq: None, Timezone: None"
       ]
      }
     ],
     "prompt_number": 52
    },
    {
     "cell_type": "code",
     "collapsed": false,
     "input": [
      "df.head()"
     ],
     "language": "python",
     "metadata": {},
     "outputs": [
      {
       "html": [
        "<div style=\"max-height:1000px;max-width:1500px;overflow:auto;\">\n",
        "<table border=\"1\" class=\"dataframe\">\n",
        "  <thead>\n",
        "    <tr style=\"text-align: right;\">\n",
        "      <th></th>\n",
        "      <th>Ls</th>\n",
        "      <th>azimuth</th>\n",
        "      <th>inc</th>\n",
        "      <th>loctime</th>\n",
        "    </tr>\n",
        "    <tr>\n",
        "      <th>times</th>\n",
        "      <th></th>\n",
        "      <th></th>\n",
        "      <th></th>\n",
        "      <th></th>\n",
        "    </tr>\n",
        "  </thead>\n",
        "  <tbody>\n",
        "    <tr>\n",
        "      <th>2010-10-06 16:44:21.402000</th>\n",
        "      <td> 159.784851</td>\n",
        "      <td> 302.166790</td>\n",
        "      <td> 89.998706</td>\n",
        "      <td> 11_34</td>\n",
        "    </tr>\n",
        "    <tr>\n",
        "      <th>2010-10-06 16:54:21.402000</th>\n",
        "      <td> 159.788522</td>\n",
        "      <td> 299.760143</td>\n",
        "      <td> 89.964667</td>\n",
        "      <td> 11_43</td>\n",
        "    </tr>\n",
        "    <tr>\n",
        "      <th>2010-10-06 17:04:21.402000</th>\n",
        "      <td> 159.792194</td>\n",
        "      <td> 297.353314</td>\n",
        "      <td> 89.945722</td>\n",
        "      <td> 11_53</td>\n",
        "    </tr>\n",
        "    <tr>\n",
        "      <th>2010-10-06 17:14:21.402000</th>\n",
        "      <td> 159.795865</td>\n",
        "      <td> 294.946401</td>\n",
        "      <td> 89.941902</td>\n",
        "      <td> 12_03</td>\n",
        "    </tr>\n",
        "    <tr>\n",
        "      <th>2010-10-06 17:24:21.402000</th>\n",
        "      <td> 159.799537</td>\n",
        "      <td> 292.539503</td>\n",
        "      <td> 89.953212</td>\n",
        "      <td> 12_13</td>\n",
        "    </tr>\n",
        "  </tbody>\n",
        "</table>\n",
        "</div>"
       ],
       "metadata": {},
       "output_type": "pyout",
       "prompt_number": 53,
       "text": [
        "                                    Ls     azimuth        inc loctime\n",
        "times                                                                \n",
        "2010-10-06 16:44:21.402000  159.784851  302.166790  89.998706   11_34\n",
        "2010-10-06 16:54:21.402000  159.788522  299.760143  89.964667   11_43\n",
        "2010-10-06 17:04:21.402000  159.792194  297.353314  89.945722   11_53\n",
        "2010-10-06 17:14:21.402000  159.795865  294.946401  89.941902   12_03\n",
        "2010-10-06 17:24:21.402000  159.799537  292.539503  89.953212   12_13"
       ]
      }
     ],
     "prompt_number": 53
    },
    {
     "cell_type": "code",
     "collapsed": false,
     "input": [
      "df[df.inc < 90].head()"
     ],
     "language": "python",
     "metadata": {},
     "outputs": [
      {
       "html": [
        "<div style=\"max-height:1000px;max-width:1500px;overflow:auto;\">\n",
        "<table border=\"1\" class=\"dataframe\">\n",
        "  <thead>\n",
        "    <tr style=\"text-align: right;\">\n",
        "      <th></th>\n",
        "      <th>Ls</th>\n",
        "      <th>azimuth</th>\n",
        "      <th>inc</th>\n",
        "      <th>loctime</th>\n",
        "    </tr>\n",
        "    <tr>\n",
        "      <th>times</th>\n",
        "      <th></th>\n",
        "      <th></th>\n",
        "      <th></th>\n",
        "      <th></th>\n",
        "    </tr>\n",
        "  </thead>\n",
        "  <tbody>\n",
        "    <tr>\n",
        "      <th>2010-10-06 16:44:21.402000</th>\n",
        "      <td> 159.784851</td>\n",
        "      <td> 302.166790</td>\n",
        "      <td> 89.998706</td>\n",
        "      <td> 11_34</td>\n",
        "    </tr>\n",
        "    <tr>\n",
        "      <th>2010-10-06 16:54:21.402000</th>\n",
        "      <td> 159.788522</td>\n",
        "      <td> 299.760143</td>\n",
        "      <td> 89.964667</td>\n",
        "      <td> 11_43</td>\n",
        "    </tr>\n",
        "    <tr>\n",
        "      <th>2010-10-06 17:04:21.402000</th>\n",
        "      <td> 159.792194</td>\n",
        "      <td> 297.353314</td>\n",
        "      <td> 89.945722</td>\n",
        "      <td> 11_53</td>\n",
        "    </tr>\n",
        "    <tr>\n",
        "      <th>2010-10-06 17:14:21.402000</th>\n",
        "      <td> 159.795865</td>\n",
        "      <td> 294.946401</td>\n",
        "      <td> 89.941902</td>\n",
        "      <td> 12_03</td>\n",
        "    </tr>\n",
        "    <tr>\n",
        "      <th>2010-10-06 17:24:21.402000</th>\n",
        "      <td> 159.799537</td>\n",
        "      <td> 292.539503</td>\n",
        "      <td> 89.953212</td>\n",
        "      <td> 12_13</td>\n",
        "    </tr>\n",
        "  </tbody>\n",
        "</table>\n",
        "</div>"
       ],
       "metadata": {},
       "output_type": "pyout",
       "prompt_number": 54,
       "text": [
        "                                    Ls     azimuth        inc loctime\n",
        "times                                                                \n",
        "2010-10-06 16:44:21.402000  159.784851  302.166790  89.998706   11_34\n",
        "2010-10-06 16:54:21.402000  159.788522  299.760143  89.964667   11_43\n",
        "2010-10-06 17:04:21.402000  159.792194  297.353314  89.945722   11_53\n",
        "2010-10-06 17:14:21.402000  159.795865  294.946401  89.941902   12_03\n",
        "2010-10-06 17:24:21.402000  159.799537  292.539503  89.953212   12_13"
       ]
      }
     ],
     "prompt_number": 54
    },
    {
     "cell_type": "code",
     "collapsed": false,
     "input": [],
     "language": "python",
     "metadata": {},
     "outputs": [
      {
       "html": [
        "<pre>\n",
        "&lt;class 'pandas.core.frame.DataFrame'&gt;\n",
        "DatetimeIndex: 5000 entries, 2010-10-06 16:44:21.402000 to 2010-12-16 19:14:21.402000\n",
        "Data columns (total 4 columns):\n",
        "Ls         5000  non-null values\n",
        "azimuth    5000  non-null values\n",
        "inc        5000  non-null values\n",
        "loctime    5000  non-null values\n",
        "dtypes: float64(3), object(1)\n",
        "</pre>"
       ],
       "metadata": {},
       "output_type": "pyout",
       "prompt_number": 61,
       "text": [
        "<class 'pandas.core.frame.DataFrame'>\n",
        "DatetimeIndex: 5000 entries, 2010-10-06 16:44:21.402000 to 2010-12-16 19:14:21.402000\n",
        "Data columns (total 4 columns):\n",
        "Ls         5000  non-null values\n",
        "azimuth    5000  non-null values\n",
        "inc        5000  non-null values\n",
        "loctime    5000  non-null values\n",
        "dtypes: float64(3), object(1)"
       ]
      }
     ],
     "prompt_number": 61
    },
    {
     "cell_type": "code",
     "collapsed": false,
     "input": [
      "store = pd.HDFStore('inca_metadata.h5','w')"
     ],
     "language": "python",
     "metadata": {},
     "outputs": [],
     "prompt_number": 64
    },
    {
     "cell_type": "code",
     "collapsed": false,
     "input": [
      "store['df'] = df"
     ],
     "language": "python",
     "metadata": {},
     "outputs": [],
     "prompt_number": 65
    },
    {
     "cell_type": "code",
     "collapsed": false,
     "input": [
      "store.close()"
     ],
     "language": "python",
     "metadata": {},
     "outputs": [],
     "prompt_number": 66
    },
    {
     "cell_type": "code",
     "collapsed": false,
     "input": [
      "subdf = df[(df.Ls < 160)]"
     ],
     "language": "python",
     "metadata": {},
     "outputs": [],
     "prompt_number": 297
    },
    {
     "cell_type": "code",
     "collapsed": false,
     "input": [
      "subdf.iteritems()"
     ],
     "language": "python",
     "metadata": {},
     "outputs": [
      {
       "metadata": {},
       "output_type": "pyout",
       "prompt_number": 303,
       "text": [
        "<generator object iteritems at 0x11ec8c690>"
       ]
      }
     ],
     "prompt_number": 303
    },
    {
     "cell_type": "code",
     "collapsed": false,
     "input": [
      "for k,v in subdf.T.iteritems():\n",
      "    print k\n",
      "    print\n",
      "    print v['Ls']"
     ],
     "language": "python",
     "metadata": {},
     "outputs": [
      {
       "output_type": "stream",
       "stream": "stdout",
       "text": [
        "2010-10-06 16:44:21.402000\n",
        "\n",
        "159.784850802\n",
        "2010-10-06 16:54:21.402000\n",
        "\n",
        "159.788522268\n",
        "2010-10-06 17:04:21.402000\n",
        "\n",
        "159.792193778\n",
        "2010-10-06 17:14:21.402000\n",
        "\n",
        "159.795865332\n",
        "2010-10-06 17:24:21.402000\n",
        "\n",
        "159.79953693\n",
        "2010-10-06 17:34:21.402000\n",
        "\n",
        "159.803208572\n"
       ]
      }
     ],
     "prompt_number": 309
    },
    {
     "cell_type": "code",
     "collapsed": false,
     "input": [
      "df[['azimuth']].plot(style='*-')"
     ],
     "language": "python",
     "metadata": {},
     "outputs": [
      {
       "metadata": {},
       "output_type": "pyout",
       "prompt_number": 179,
       "text": [
        "<matplotlib.axes.AxesSubplot at 0x123bab290>"
       ]
      }
     ],
     "prompt_number": 179
    },
    {
     "cell_type": "code",
     "collapsed": false,
     "input": [
      "df.azimuth.plot()"
     ],
     "language": "python",
     "metadata": {},
     "outputs": [
      {
       "metadata": {},
       "output_type": "pyout",
       "prompt_number": 244,
       "text": [
        "<matplotlib.axes.AxesSubplot at 0x1217e4890>"
       ]
      }
     ],
     "prompt_number": 244
    },
    {
     "cell_type": "code",
     "collapsed": false,
     "input": [
      "df.index.day.max()"
     ],
     "language": "python",
     "metadata": {},
     "outputs": [
      {
       "metadata": {},
       "output_type": "pyout",
       "prompt_number": 252,
       "text": [
        "31"
       ]
      }
     ],
     "prompt_number": 252
    },
    {
     "cell_type": "code",
     "collapsed": false,
     "input": [
      "subdf = df.ix[df.index.day == 30]"
     ],
     "language": "python",
     "metadata": {},
     "outputs": [],
     "prompt_number": 253
    },
    {
     "cell_type": "code",
     "collapsed": false,
     "input": [
      "surf.utc = '2010-10-30T07:04:21.402000'"
     ],
     "language": "python",
     "metadata": {},
     "outputs": [],
     "prompt_number": 259
    },
    {
     "cell_type": "code",
     "collapsed": false,
     "input": [
      "surf.l_s"
     ],
     "language": "python",
     "metadata": {},
     "outputs": [
      {
       "metadata": {},
       "output_type": "pyout",
       "prompt_number": 260,
       "text": [
        "172.51903219343023"
       ]
      }
     ],
     "prompt_number": 260
    },
    {
     "cell_type": "code",
     "collapsed": false,
     "input": [
      "import subprocess\n",
      "import os\n",
      "root = '/Users/maye/data/hirise/inca_city_dem/latest_download'\n",
      "inpath = os.path.join(root,'DTEPC_022699_0985_022607_0985_A01.IMG')\n",
      "cmd_root = ['gdaldem','hillshade']\n",
      "for i,item in enumerate(subdf.values):\n",
      "    outpath = os.path.join(root,'hillshade_{0}.png'.format(str(i).zfill(2)))\n",
      "    cmd_end = [inpath, outpath, '-of png', '-az {0}'.format(item[0]), '-alt {0}'.format(90 - item[1])]\n",
      "    print(' '.join(cmd_root+cmd_end))"
     ],
     "language": "python",
     "metadata": {},
     "outputs": [
      {
       "output_type": "stream",
       "stream": "stdout",
       "text": [
        "gdaldem hillshade /Users/maye/data/hirise/inca_city_dem/latest_download/DTEPC_022699_0985_022607_0985_A01.IMG /Users/maye/data/hirise/inca_city_dem/latest_download/hillshade_00.png -of png -az 302.166790051 -alt 0.00129416153204\n",
        "gdaldem hillshade /Users/maye/data/hirise/inca_city_dem/latest_download/DTEPC_022699_0985_022607_0985_A01.IMG /Users/maye/data/hirise/inca_city_dem/latest_download/hillshade_01.png -of png -az 299.76014261 -alt 0.0353327520195\n",
        "gdaldem hillshade /Users/maye/data/hirise/inca_city_dem/latest_download/DTEPC_022699_0985_022607_0985_A01.IMG /Users/maye/data/hirise/inca_city_dem/latest_download/hillshade_02.png -of png -az 297.353313503 -alt 0.0542778094179\n",
        "gdaldem hillshade /Users/maye/data/hirise/inca_city_dem/latest_download/DTEPC_022699_0985_022607_0985_A01.IMG /Users/maye/data/hirise/inca_city_dem/latest_download/hillshade_03.png -of png -az 294.946400873 -alt 0.0580976592616\n",
        "gdaldem hillshade /Users/maye/data/hirise/inca_city_dem/latest_download/DTEPC_022699_0985_022607_0985_A01.IMG /Users/maye/data/hirise/inca_city_dem/latest_download/hillshade_04.png -of png -az 292.539503493 -alt 0.0467879098701\n",
        "gdaldem hillshade /Users/maye/data/hirise/inca_city_dem/latest_download/DTEPC_022699_0985_022607_0985_A01.IMG /Users/maye/data/hirise/inca_city_dem/latest_download/hillshade_05.png -of png -az 290.132720157 -alt 0.0203714644722\n",
        "gdaldem hillshade /Users/maye/data/hirise/inca_city_dem/latest_download/DTEPC_022699_0985_022607_0985_A01.IMG /Users/maye/data/hirise/inca_city_dem/latest_download/hillshade_06.png -of png -az 309.257755028 -alt 0.0338599333835\n",
        "gdaldem hillshade /Users/maye/data/hirise/inca_city_dem/latest_download/DTEPC_022699_0985_022607_0985_A01.IMG /Users/maye/data/hirise/inca_city_dem/latest_download/hillshade_07.png -of png -az 306.850823877 -alt 0.111940209809\n",
        "gdaldem hillshade /Users/maye/data/hirise/inca_city_dem/latest_download/DTEPC_022699_0985_022607_0985_A01.IMG /Users/maye/data/hirise/inca_city_dem/latest_download/hillshade_08.png -of png -az 304.443426929 -alt 0.175169544314\n",
        "gdaldem hillshade /Users/maye/data/hirise/inca_city_dem/latest_download/DTEPC_022699_0985_022607_0985_A01.IMG /Users/maye/data/hirise/inca_city_dem/latest_download/hillshade_09.png -of png -az 302.035655364 -alt 0.223436382574\n",
        "gdaldem hillshade /Users/maye/data/hirise/inca_city_dem/latest_download/DTEPC_022699_0985_022607_0985_A01.IMG /Users/maye/data/hirise/inca_city_dem/latest_download/hillshade_10.png -of png -az 299.627604541 -alt 0.256656101451\n",
        "gdaldem hillshade /Users/maye/data/hirise/inca_city_dem/latest_download/DTEPC_022699_0985_022607_0985_A01.IMG /Users/maye/data/hirise/inca_city_dem/latest_download/hillshade_11.png -of png -az 297.219373506 -alt 0.274771211685\n",
        "gdaldem hillshade /Users/maye/data/hirise/inca_city_dem/latest_download/DTEPC_022699_0985_022607_0985_A01.IMG /Users/maye/data/hirise/inca_city_dem/latest_download/hillshade_12.png -of png -az 294.811062633 -alt 0.27775149672\n",
        "gdaldem hillshade /Users/maye/data/hirise/inca_city_dem/latest_download/DTEPC_022699_0985_022607_0985_A01.IMG /Users/maye/data/hirise/inca_city_dem/latest_download/hillshade_13.png -of png -az 292.40277374 -alt 0.265594086685\n",
        "gdaldem hillshade /Users/maye/data/hirise/inca_city_dem/latest_download/DTEPC_022699_0985_022607_0985_A01.IMG /Users/maye/data/hirise/inca_city_dem/latest_download/hillshade_14.png -of png -az 289.99460765 -alt 0.238323466939\n",
        "gdaldem hillshade /Users/maye/data/hirise/inca_city_dem/latest_download/DTEPC_022699_0985_022607_0985_A01.IMG /Users/maye/data/hirise/inca_city_dem/latest_download/hillshade_15.png -of png -az 287.586664213 -alt 0.195991421094\n",
        "gdaldem hillshade /Users/maye/data/hirise/inca_city_dem/latest_download/DTEPC_022699_0985_022607_0985_A01.IMG /Users/maye/data/hirise/inca_city_dem/latest_download/hillshade_16.png -of png -az 285.179039708 -alt 0.138676908985\n",
        "gdaldem hillshade /Users/maye/data/hirise/inca_city_dem/latest_download/DTEPC_022699_0985_022607_0985_A01.IMG /Users/maye/data/hirise/inca_city_dem/latest_download/hillshade_17.png -of png -az 282.771826874 -alt 0.0664858804516\n"
       ]
      }
     ],
     "prompt_number": 224
    },
    {
     "cell_type": "code",
     "collapsed": false,
     "input": [
      "import subprocess\n",
      "import os\n",
      "root = '/Users/maye/data/hirise/inca_city_dem/latest_download'\n",
      "for i,item in enumerate(subdf.values):\n",
      "    inpath = os.path.join(root,'hillshade_{0}.png'.format(str(i).zfill(2)))\n",
      "    outpath =os.path.join(root,'hillshade_small_{0}.png'.format(str(i).zfill(2)))\n",
      "    cmd = ['convert', inpath, '-resize 1920', outpath]\n",
      "    print(' '.join(cmd))"
     ],
     "language": "python",
     "metadata": {},
     "outputs": [
      {
       "output_type": "stream",
       "stream": "stdout",
       "text": [
        "convert /Users/maye/data/hirise/inca_city_dem/latest_download/hillshade_00.png -resize 1920 /Users/maye/data/hirise/inca_city_dem/latest_download/hillshade_small_00.png\n",
        "convert /Users/maye/data/hirise/inca_city_dem/latest_download/hillshade_01.png -resize 1920 /Users/maye/data/hirise/inca_city_dem/latest_download/hillshade_small_01.png\n",
        "convert /Users/maye/data/hirise/inca_city_dem/latest_download/hillshade_02.png -resize 1920 /Users/maye/data/hirise/inca_city_dem/latest_download/hillshade_small_02.png\n",
        "convert /Users/maye/data/hirise/inca_city_dem/latest_download/hillshade_03.png -resize 1920 /Users/maye/data/hirise/inca_city_dem/latest_download/hillshade_small_03.png\n",
        "convert /Users/maye/data/hirise/inca_city_dem/latest_download/hillshade_04.png -resize 1920 /Users/maye/data/hirise/inca_city_dem/latest_download/hillshade_small_04.png\n",
        "convert /Users/maye/data/hirise/inca_city_dem/latest_download/hillshade_05.png -resize 1920 /Users/maye/data/hirise/inca_city_dem/latest_download/hillshade_small_05.png\n"
       ]
      }
     ],
     "prompt_number": 221
    },
    {
     "cell_type": "code",
     "collapsed": false,
     "input": [],
     "language": "python",
     "metadata": {},
     "outputs": [
      {
       "metadata": {},
       "output_type": "pyout",
       "prompt_number": 218,
       "text": [
        "['gdaldem', 'hillshade']"
       ]
      }
     ],
     "prompt_number": 218
    },
    {
     "cell_type": "code",
     "collapsed": false,
     "input": [],
     "language": "python",
     "metadata": {},
     "outputs": [
      {
       "output_type": "stream",
       "stream": "stdout",
       "text": [
        "Object `getoutput` not found.\n"
       ]
      }
     ],
     "prompt_number": 211
    },
    {
     "cell_type": "code",
     "collapsed": false,
     "input": [],
     "language": "python",
     "metadata": {},
     "outputs": []
    }
   ],
   "metadata": {}
  }
 ]
}