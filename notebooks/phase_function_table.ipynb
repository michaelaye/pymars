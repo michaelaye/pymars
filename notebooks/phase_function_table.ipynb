{
 "metadata": {
  "name": "phase_function_table"
 },
 "nbformat": 3,
 "nbformat_minor": 0,
 "worksheets": [
  {
   "cells": [
    {
     "cell_type": "code",
     "collapsed": false,
     "input": [
      "import pandas as pd\n",
      "reload(pd)"
     ],
     "language": "python",
     "metadata": {},
     "outputs": [
      {
       "output_type": "pyout",
       "prompt_number": 1,
       "text": [
        "<module 'pandas' from '/Library/Frameworks/EPD64.framework/Versions/7.3/lib/python2.7/site-packages/pandas-0.10.0-py2.7-macosx-10.5-x86_64.egg/pandas/__init__.pyc'>"
       ]
      }
     ],
     "prompt_number": 1
    },
    {
     "cell_type": "code",
     "collapsed": false,
     "input": [
      "df = pd.io.parsers.read_csv(\"/Users/maye/data/hirise/inca/grid_by_phase.txt\",skipinitialspace=True, na_values='-NaN')"
     ],
     "language": "python",
     "metadata": {},
     "outputs": [],
     "prompt_number": 2
    },
    {
     "cell_type": "code",
     "collapsed": false,
     "input": [
      "df.dtypes"
     ],
     "language": "python",
     "metadata": {},
     "outputs": [
      {
       "output_type": "pyout",
       "prompt_number": 3,
       "text": [
        "incidence        int64\n",
        "emission         int64\n",
        "phase          float64\n",
        "reflectance    float64"
       ]
      }
     ],
     "prompt_number": 3
    },
    {
     "cell_type": "code",
     "collapsed": false,
     "input": [
      "df.ix[81900]['phase']"
     ],
     "language": "python",
     "metadata": {},
     "outputs": [
      {
       "output_type": "pyout",
       "prompt_number": 6,
       "text": [
        "nan"
       ]
      }
     ],
     "prompt_number": 6
    },
    {
     "cell_type": "code",
     "collapsed": false,
     "input": [
      "dfdropped = df.dropna()"
     ],
     "language": "python",
     "metadata": {},
     "outputs": [],
     "prompt_number": 11
    },
    {
     "cell_type": "code",
     "collapsed": false,
     "input": [
      "dfdropped"
     ],
     "language": "python",
     "metadata": {},
     "outputs": [
      {
       "output_type": "pyout",
       "prompt_number": 12,
       "text": [
        "<class 'pandas.core.frame.DataFrame'>\n",
        "Int64Index: 1457983 entries, 0 to 1457999\n",
        "Data columns:\n",
        "incidence      1457983  non-null values\n",
        "emission       1457983  non-null values\n",
        "phase          1457983  non-null values\n",
        "reflectance    1457983  non-null values\n",
        "dtypes: float64(2), int64(2)"
       ]
      }
     ],
     "prompt_number": 12
    },
    {
     "cell_type": "code",
     "collapsed": false,
     "input": [
      "dfdropped[(dfdropped.phase>67) & (dfdropped.phase<68)].incidence.value_counts()"
     ],
     "language": "python",
     "metadata": {},
     "outputs": [
      {
       "output_type": "pyout",
       "prompt_number": 20,
       "text": [
        "67    341\n",
        "68    340\n",
        "66    290\n",
        "69    283\n",
        "70    259\n",
        "65    257\n",
        "71    240\n",
        "64    240\n",
        "63    229\n",
        "62    223\n",
        "72    222\n",
        "61    211\n",
        "73    201\n",
        "60    200\n",
        "74    196\n",
        "59    195\n",
        "58    192\n",
        "75    190\n",
        "57    187\n",
        "22    186\n",
        "21    186\n",
        "14    185\n",
        "20    185\n",
        "17    185\n",
        "56    185\n",
        "15    184\n",
        "19    184\n",
        "18    183\n",
        "13    182\n",
        "16    182\n",
        "55    181\n",
        "12    181\n",
        "77    180\n",
        "76    180\n",
        "8     180\n",
        "7     179\n",
        "6     179\n",
        "5     179\n",
        "4     179\n",
        "11    179\n",
        "3     179\n",
        "10    179\n",
        "2     179\n",
        "9     179\n",
        "1     179\n",
        "54    177\n",
        "78    174\n",
        "52    173\n",
        "53    172\n",
        "50    170\n",
        "23    168\n",
        "47    167\n",
        "51    167\n",
        "79    166\n",
        "24    166\n",
        "49    164\n",
        "45    162\n",
        "80    162\n",
        "46    161\n",
        "26    161\n",
        "25    160\n",
        "48    160\n",
        "81    158\n",
        "31    157\n",
        "35    157\n",
        "41    156\n",
        "29    155\n",
        "28    155\n",
        "82    155\n",
        "33    155\n",
        "30    154\n",
        "38    153\n",
        "27    153\n",
        "42    153\n",
        "34    153\n",
        "36    152\n",
        "83    152\n",
        "40    151\n",
        "32    150\n",
        "43    149\n",
        "39    148\n",
        "37    148\n",
        "84    148\n",
        "85    143\n",
        "44    142\n",
        "87    136\n",
        "86    136\n",
        "88    132\n",
        "89    131\n",
        "Length: 89"
       ]
      }
     ],
     "prompt_number": 20
    },
    {
     "cell_type": "code",
     "collapsed": false,
     "input": [],
     "language": "python",
     "metadata": {},
     "outputs": []
    }
   ],
   "metadata": {}
  }
 ]
}