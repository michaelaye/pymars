{
 "metadata": {
  "name": "Solar Azimuth"
 },
 "nbformat": 3,
 "worksheets": [
  {
   "cells": [
    {
     "cell_type": "code",
     "collapsed": true,
     "input": [
      "import mars_spice as ms"
     ],
     "language": "python",
     "outputs": [],
     "prompt_number": 455
    },
    {
     "cell_type": "code",
     "collapsed": false,
     "input": [
      "reload(ms)",
      "mspice = ms.MarsSpicer()",
      "mspice.utc = '2011-01-15T14:59:26.483'"
     ],
     "language": "python",
     "outputs": [],
     "prompt_number": 456
    },
    {
     "cell_type": "code",
     "collapsed": true,
     "input": [
      "mspice.set_spoint_by(lon = 295.765129263, lat = -81.4890558738)"
     ],
     "language": "python",
     "outputs": [],
     "prompt_number": 457
    },
    {
     "cell_type": "code",
     "collapsed": false,
     "input": [
      "mspice.coords.dlon"
     ],
     "language": "python",
     "outputs": [
      {
       "output_type": "pyout",
       "prompt_number": 458,
       "text": [
        "295.76512926299995"
       ]
      }
     ],
     "prompt_number": 458
    },
    {
     "cell_type": "code",
     "collapsed": false,
     "input": [
      "mspice.spoint"
     ],
     "language": "python",
     "outputs": [
      {
       "output_type": "pyout",
       "prompt_number": 459,
       "text": [
        "(217.226858105065, -450.0541489081747, -3339.449272242784)"
       ]
      }
     ],
     "prompt_number": 459
    },
    {
     "cell_type": "code",
     "collapsed": false,
     "input": [
      "rad, lon, lat = reclat(mspice.spoint)"
     ],
     "language": "python",
     "outputs": [],
     "prompt_number": 460
    },
    {
     "cell_type": "code",
     "collapsed": false,
     "input": [
      "mspice.subsolar"
     ],
     "language": "python",
     "outputs": [
      {
       "output_type": "pyout",
       "prompt_number": 461,
       "text": [
        "(-2466.3898039937353, -2161.8164119388075, -876.6133328344116)"
       ]
      }
     ],
     "prompt_number": 461
    },
    {
     "cell_type": "code",
     "collapsed": true,
     "input": [
      "from spice import vhat, vsep, vscl"
     ],
     "language": "python",
     "outputs": [],
     "prompt_number": 462
    },
    {
     "cell_type": "code",
     "collapsed": true,
     "input": [
      "poB = vsub(mspice.subsolar,mspice.spoint)"
     ],
     "language": "python",
     "outputs": [],
     "prompt_number": 463
    },
    {
     "cell_type": "code",
     "collapsed": true,
     "input": [
      "upoB = vhat(poB)"
     ],
     "language": "python",
     "outputs": [],
     "prompt_number": 464
    },
    {
     "cell_type": "code",
     "collapsed": false,
     "input": [
      "upoB"
     ],
     "language": "python",
     "outputs": [
      {
       "output_type": "pyout",
       "prompt_number": 465,
       "text": [
        "(-0.6668015932015576, -0.42532371343918407, 0.6119439305117481)"
       ]
      }
     ],
     "prompt_number": 465
    },
    {
     "cell_type": "code",
     "collapsed": true,
     "input": [
      "scale = 0.5/1000/2.0"
     ],
     "language": "python",
     "outputs": [],
     "prompt_number": 466
    },
    {
     "cell_type": "code",
     "collapsed": true,
     "input": [
      "supoB = vscl(scale,upoB)"
     ],
     "language": "python",
     "outputs": [],
     "prompt_number": 467
    },
    {
     "cell_type": "code",
     "collapsed": false,
     "input": [
      "supoB"
     ],
     "language": "python",
     "outputs": [
      {
       "output_type": "pyout",
       "prompt_number": 468,
       "text": [
        "(-0.0001667003983003894, -0.00010633092835979601, 0.00015298598262793704)"
       ]
      }
     ],
     "prompt_number": 468
    },
    {
     "cell_type": "code",
     "collapsed": true,
     "input": [
      "from spice import vadd"
     ],
     "language": "python",
     "outputs": [],
     "prompt_number": 469
    },
    {
     "cell_type": "code",
     "collapsed": true,
     "input": [
      "nB = vadd(mspice.spoint,supoB)"
     ],
     "language": "python",
     "outputs": [],
     "prompt_number": 470
    },
    {
     "cell_type": "code",
     "collapsed": false,
     "input": [
      "nB"
     ],
     "language": "python",
     "outputs": [
      {
       "output_type": "pyout",
       "prompt_number": 471,
       "text": [
        "(217.2266914046667, -450.05425523910304, -3339.449119256801)"
       ]
      }
     ],
     "prompt_number": 471
    },
    {
     "cell_type": "code",
     "collapsed": false,
     "input": [
      "mspice.spoint"
     ],
     "language": "python",
     "outputs": [
      {
       "output_type": "pyout",
       "prompt_number": 472,
       "text": [
        "(217.226858105065, -450.0541489081747, -3339.449272242784)"
       ]
      }
     ],
     "prompt_number": 472
    },
    {
     "cell_type": "code",
     "collapsed": true,
     "input": [
      "nB = vhat(nB)"
     ],
     "language": "python",
     "outputs": [],
     "prompt_number": 473
    },
    {
     "cell_type": "code",
     "collapsed": false,
     "input": [
      "nB"
     ],
     "language": "python",
     "outputs": [
      {
       "output_type": "pyout",
       "prompt_number": 474,
       "text": [
        "(0.06433231910645616, -0.1332848821479516, -0.9889876100888181)"
       ]
      }
     ],
     "prompt_number": 474
    },
    {
     "cell_type": "code",
     "collapsed": true,
     "input": [
      "from spice import vnorm"
     ],
     "language": "python",
     "outputs": [],
     "prompt_number": 475
    },
    {
     "cell_type": "code",
     "collapsed": true,
     "input": [
      "nB = vscl(mspice.coords.radius, nB)"
     ],
     "language": "python",
     "outputs": [],
     "prompt_number": 476
    },
    {
     "cell_type": "code",
     "collapsed": false,
     "input": [
      "nB"
     ],
     "language": "python",
     "outputs": [
      {
       "output_type": "pyout",
       "prompt_number": 477,
       "text": [
        "(217.22670091640373, -450.05427494569483, -3339.4492654817504)"
       ]
      }
     ],
     "prompt_number": 477
    },
    {
     "cell_type": "code",
     "collapsed": true,
     "input": [
      "from spice import reclat"
     ],
     "language": "python",
     "outputs": [],
     "prompt_number": 478
    },
    {
     "cell_type": "code",
     "collapsed": true,
     "input": [
      "nrad, nlon, nlat = reclat(nB)"
     ],
     "language": "python",
     "outputs": [],
     "prompt_number": 479
    },
    {
     "cell_type": "code",
     "collapsed": false,
     "input": [
      "360 - abs(degrees(nlon)), degrees(nlat)"
     ],
     "language": "python",
     "outputs": [
      {
       "output_type": "pyout",
       "prompt_number": 480,
       "text": [
        "(295.76510675131289, -81.489055098633585)"
       ]
      }
     ],
     "prompt_number": 480
    },
    {
     "cell_type": "code",
     "collapsed": false,
     "input": [
      "mspice.lat"
     ],
     "language": "python",
     "outputs": [
      {
       "output_type": "pyout",
       "prompt_number": 481,
       "text": [
        "-81.4890558738"
       ]
      }
     ],
     "prompt_number": 481
    },
    {
     "cell_type": "code",
     "collapsed": false,
     "input": [
      "inca = mars.HiRISE('/Users/maye/Data/hirise/inca_city/ESP_020959_0985/ESP_020959_0985_RED5.cal.norm.map.cub')"
     ],
     "language": "python",
     "outputs": [],
     "prompt_number": 482
    },
    {
     "cell_type": "code",
     "collapsed": false,
     "input": [
      "inca.center()"
     ],
     "language": "python",
     "outputs": [
      {
       "output_type": "stream",
       "stream": "stdout",
       "text": [
        "Pixel: (7877,6095)",
        "Map: (None,None)",
        "Geo: (None,None)"
       ]
      }
     ],
     "prompt_number": 483
    },
    {
     "cell_type": "code",
     "collapsed": false,
     "input": [
      "inca.center.pixel_to_lonlat(inca.geotransform, inca.projection)"
     ],
     "language": "python",
     "outputs": [
      {
       "output_type": "pyout",
       "prompt_number": 484,
       "text": [
        "(295.7651292631135, -81.48905587378381)"
       ]
      }
     ],
     "prompt_number": 484
    },
    {
     "cell_type": "code",
     "collapsed": false,
     "input": [
      "inca.center()"
     ],
     "language": "python",
     "outputs": [
      {
       "output_type": "stream",
       "stream": "stdout",
       "text": [
        "Pixel: (7877,6095)",
        "Map: (-457802.0,220966.5)",
        "Geo: (295.765129263,-81.4890558738)"
       ]
      }
     ],
     "prompt_number": 485
    },
    {
     "cell_type": "code",
     "collapsed": true,
     "input": [
      "newPoint = mars.Point(lon = 295.76510675138377, lat = -81.489055098355479)"
     ],
     "language": "python",
     "outputs": [],
     "prompt_number": 486
    },
    {
     "cell_type": "code",
     "collapsed": false,
     "input": [
      "newPoint.lonlat_to_pixel(inca.geotransform, inca.projection)"
     ],
     "language": "python",
     "outputs": [
      {
       "output_type": "pyout",
       "prompt_number": 487,
       "text": [
        "(7876.742656826624, 6095.319342095521)"
       ]
      }
     ],
     "prompt_number": 487
    },
    {
     "cell_type": "code",
     "collapsed": true,
     "input": [
      "deltasample = newPoint.sample - inca.center.sample",
      "deltaline = newPoint.line - inca.center.line"
     ],
     "language": "python",
     "outputs": [],
     "prompt_number": 488
    },
    {
     "cell_type": "code",
     "collapsed": false,
     "input": [
      "deltaline, deltasample"
     ],
     "language": "python",
     "outputs": [
      {
       "output_type": "pyout",
       "prompt_number": 489,
       "text": [
        "(0.3193420955212787, -0.25734317337628454)"
       ]
      }
     ],
     "prompt_number": 489
    },
    {
     "cell_type": "code",
     "collapsed": false,
     "input": [
      "azimuth = arctan2(deltaline,deltasample)"
     ],
     "language": "python",
     "outputs": [],
     "prompt_number": 490
    },
    {
     "cell_type": "code",
     "collapsed": false,
     "input": [
      "degrees(azimuth)"
     ],
     "language": "python",
     "outputs": [
      {
       "output_type": "pyout",
       "prompt_number": 491,
       "text": [
        "128.86375044903815"
       ]
      }
     ],
     "prompt_number": 491
    },
    {
     "cell_type": "code",
     "collapsed": true,
     "input": [
      "azimuth = arctan2"
     ],
     "language": "python",
     "outputs": [],
     "prompt_number": 492
    },
    {
     "cell_type": "code",
     "collapsed": false,
     "input": [
      "mspice.subsolar"
     ],
     "language": "python",
     "outputs": [
      {
       "output_type": "pyout",
       "prompt_number": 493,
       "text": [
        "(-2466.3898039937353, -2161.8164119388075, -876.6133328344116)"
       ]
      }
     ],
     "prompt_number": 493
    },
    {
     "cell_type": "code",
     "collapsed": false,
     "input": [
      "nB"
     ],
     "language": "python",
     "outputs": [
      {
       "output_type": "pyout",
       "prompt_number": 494,
       "text": [
        "(217.22670091640373, -450.05427494569483, -3339.4492654817504)"
       ]
      }
     ],
     "prompt_number": 494
    },
    {
     "cell_type": "code",
     "collapsed": false,
     "input": [
      "mspice.spoint"
     ],
     "language": "python",
     "outputs": [
      {
       "output_type": "pyout",
       "prompt_number": 495,
       "text": [
        "(217.226858105065, -450.0541489081747, -3339.449272242784)"
       ]
      }
     ],
     "prompt_number": 495
    },
    {
     "cell_type": "code",
     "collapsed": true,
     "input": [],
     "language": "python",
     "outputs": []
    }
   ]
  }
 ]
}